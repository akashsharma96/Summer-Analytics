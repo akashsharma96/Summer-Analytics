{
 "cells": [
  {
   "cell_type": "markdown",
   "metadata": {
    "papermill": {
     "duration": 0.035745,
     "end_time": "2020-09-19T16:57:52.808318",
     "exception": false,
     "start_time": "2020-09-19T16:57:52.772573",
     "status": "completed"
    },
    "tags": []
   },
   "source": [
    "# Summer Analytics 2020 Capstone Project\n",
    "## Predicting Employee Attrition in the Dawn of Recession\n",
    "\n",
    "        \n",
    "       As the COVID-19 keeps unleashing its havoc, the world continues to get pushed into the crisis of the great economic recession, more and more companies start to cut down their underperforming employees. Companies firing hundreds and thousands of Employees is a typical headline today. Cutting down employees or reducing an employee salary is a tough decision to take. It needs to be taken with utmost care as imprecision in the identification of employees whose performance is attriting may lead to sabotaging of both employees' career and the company's reputation in the market.\n",
    "\n",
    "### Aim of The Competition\n",
    "    To predict Employee Attrition by the given data about his/her past history."
   ]
  },
  {
   "cell_type": "code",
   "execution_count": 1,
   "metadata": {
    "execution": {
     "iopub.execute_input": "2020-09-19T16:57:52.887949Z",
     "iopub.status.busy": "2020-09-19T16:57:52.887119Z",
     "iopub.status.idle": "2020-09-19T16:57:52.892345Z",
     "shell.execute_reply": "2020-09-19T16:57:52.891754Z"
    },
    "papermill": {
     "duration": 0.047298,
     "end_time": "2020-09-19T16:57:52.892464",
     "exception": false,
     "start_time": "2020-09-19T16:57:52.845166",
     "status": "completed"
    },
    "tags": []
   },
   "outputs": [
    {
     "name": "stdout",
     "output_type": "stream",
     "text": [
      "/kaggle/input/summeranalytics2020/train.csv\n",
      "/kaggle/input/summeranalytics2020/Sample_submission.csv\n",
      "/kaggle/input/summeranalytics2020/test.csv\n"
     ]
    }
   ],
   "source": [
    "# This Python 3 environment comes with many helpful analytics libraries installed\n",
    "# It is defined by the kaggle/python Docker image: https://github.com/kaggle/docker-python\n",
    "# For example, here's several helpful packages to load\n",
    "\n",
    "import numpy as np # linear algebra\n",
    "import pandas as pd # data processing, CSV file I/O (e.g. pd.read_csv)\n",
    "\n",
    "# Input data files are available in the read-only \"../input/\" directory\n",
    "# For example, running this (by clicking run or pressing Shift+Enter) will list all files under the input directory\n",
    "\n",
    "import os\n",
    "for dirname, _, filenames in os.walk('/kaggle/input'):\n",
    "    for filename in filenames:\n",
    "        print(os.path.join(dirname, filename))\n",
    "\n",
    "# You can write up to 5GB to the current directory (/kaggle/working/) that gets preserved as output when you create a version using \"Save & Run All\" \n",
    "# You can also write temporary files to /kaggle/temp/, but they won't be saved outside of the current session"
   ]
  },
  {
   "cell_type": "code",
   "execution_count": 2,
   "metadata": {
    "execution": {
     "iopub.execute_input": "2020-09-19T16:57:52.974007Z",
     "iopub.status.busy": "2020-09-19T16:57:52.973214Z",
     "iopub.status.idle": "2020-09-19T16:57:54.152338Z",
     "shell.execute_reply": "2020-09-19T16:57:54.151498Z"
    },
    "papermill": {
     "duration": 1.223039,
     "end_time": "2020-09-19T16:57:54.152471",
     "exception": false,
     "start_time": "2020-09-19T16:57:52.929432",
     "status": "completed"
    },
    "tags": []
   },
   "outputs": [],
   "source": [
    "# importing required librery\n",
    "\n",
    "import pandas as pd\n",
    "import numpy as np\n",
    "import matplotlib.pyplot as plt\n",
    "import seaborn as sns\n",
    "\n",
    "%matplotlib inline\n",
    "\n",
    "pd.pandas.set_option('display.max_columns',None)"
   ]
  },
  {
   "cell_type": "markdown",
   "metadata": {
    "papermill": {
     "duration": 0.035998,
     "end_time": "2020-09-19T16:57:54.224491",
     "exception": false,
     "start_time": "2020-09-19T16:57:54.188493",
     "status": "completed"
    },
    "tags": []
   },
   "source": [
    "### importing data"
   ]
  },
  {
   "cell_type": "code",
   "execution_count": 3,
   "metadata": {
    "execution": {
     "iopub.execute_input": "2020-09-19T16:57:54.304916Z",
     "iopub.status.busy": "2020-09-19T16:57:54.304200Z",
     "iopub.status.idle": "2020-09-19T16:57:54.370379Z",
     "shell.execute_reply": "2020-09-19T16:57:54.370969Z"
    },
    "papermill": {
     "duration": 0.110658,
     "end_time": "2020-09-19T16:57:54.371129",
     "exception": false,
     "start_time": "2020-09-19T16:57:54.260471",
     "status": "completed"
    },
    "tags": []
   },
   "outputs": [
    {
     "data": {
      "text/html": [
       "<div>\n",
       "<style scoped>\n",
       "    .dataframe tbody tr th:only-of-type {\n",
       "        vertical-align: middle;\n",
       "    }\n",
       "\n",
       "    .dataframe tbody tr th {\n",
       "        vertical-align: top;\n",
       "    }\n",
       "\n",
       "    .dataframe thead th {\n",
       "        text-align: right;\n",
       "    }\n",
       "</style>\n",
       "<table border=\"1\" class=\"dataframe\">\n",
       "  <thead>\n",
       "    <tr style=\"text-align: right;\">\n",
       "      <th></th>\n",
       "      <th>Id</th>\n",
       "      <th>Age</th>\n",
       "      <th>Attrition</th>\n",
       "      <th>BusinessTravel</th>\n",
       "      <th>Department</th>\n",
       "      <th>DistanceFromHome</th>\n",
       "      <th>Education</th>\n",
       "      <th>EducationField</th>\n",
       "      <th>EmployeeNumber</th>\n",
       "      <th>EnvironmentSatisfaction</th>\n",
       "      <th>Gender</th>\n",
       "      <th>JobInvolvement</th>\n",
       "      <th>JobRole</th>\n",
       "      <th>JobSatisfaction</th>\n",
       "      <th>MaritalStatus</th>\n",
       "      <th>MonthlyIncome</th>\n",
       "      <th>NumCompaniesWorked</th>\n",
       "      <th>OverTime</th>\n",
       "      <th>PercentSalaryHike</th>\n",
       "      <th>PerformanceRating</th>\n",
       "      <th>StockOptionLevel</th>\n",
       "      <th>TotalWorkingYears</th>\n",
       "      <th>TrainingTimesLastYear</th>\n",
       "      <th>YearsAtCompany</th>\n",
       "      <th>YearsInCurrentRole</th>\n",
       "      <th>YearsSinceLastPromotion</th>\n",
       "      <th>YearsWithCurrManager</th>\n",
       "      <th>CommunicationSkill</th>\n",
       "      <th>Behaviour</th>\n",
       "    </tr>\n",
       "  </thead>\n",
       "  <tbody>\n",
       "    <tr>\n",
       "      <th>0</th>\n",
       "      <td>1</td>\n",
       "      <td>30</td>\n",
       "      <td>0</td>\n",
       "      <td>Non-Travel</td>\n",
       "      <td>Research &amp; Development</td>\n",
       "      <td>2</td>\n",
       "      <td>3</td>\n",
       "      <td>Medical</td>\n",
       "      <td>571</td>\n",
       "      <td>3</td>\n",
       "      <td>Female</td>\n",
       "      <td>3</td>\n",
       "      <td>Laboratory Technician</td>\n",
       "      <td>4</td>\n",
       "      <td>Single</td>\n",
       "      <td>2564</td>\n",
       "      <td>0</td>\n",
       "      <td>No</td>\n",
       "      <td>14</td>\n",
       "      <td>3</td>\n",
       "      <td>0</td>\n",
       "      <td>12</td>\n",
       "      <td>2</td>\n",
       "      <td>11</td>\n",
       "      <td>7</td>\n",
       "      <td>6</td>\n",
       "      <td>7</td>\n",
       "      <td>4</td>\n",
       "      <td>1</td>\n",
       "    </tr>\n",
       "    <tr>\n",
       "      <th>1</th>\n",
       "      <td>2</td>\n",
       "      <td>36</td>\n",
       "      <td>0</td>\n",
       "      <td>Travel_Rarely</td>\n",
       "      <td>Research &amp; Development</td>\n",
       "      <td>12</td>\n",
       "      <td>4</td>\n",
       "      <td>Life Sciences</td>\n",
       "      <td>1614</td>\n",
       "      <td>3</td>\n",
       "      <td>Female</td>\n",
       "      <td>3</td>\n",
       "      <td>Manufacturing Director</td>\n",
       "      <td>3</td>\n",
       "      <td>Married</td>\n",
       "      <td>4663</td>\n",
       "      <td>9</td>\n",
       "      <td>Yes</td>\n",
       "      <td>12</td>\n",
       "      <td>3</td>\n",
       "      <td>2</td>\n",
       "      <td>7</td>\n",
       "      <td>2</td>\n",
       "      <td>3</td>\n",
       "      <td>2</td>\n",
       "      <td>1</td>\n",
       "      <td>1</td>\n",
       "      <td>2</td>\n",
       "      <td>1</td>\n",
       "    </tr>\n",
       "    <tr>\n",
       "      <th>2</th>\n",
       "      <td>3</td>\n",
       "      <td>55</td>\n",
       "      <td>1</td>\n",
       "      <td>Travel_Rarely</td>\n",
       "      <td>Sales</td>\n",
       "      <td>2</td>\n",
       "      <td>1</td>\n",
       "      <td>Medical</td>\n",
       "      <td>842</td>\n",
       "      <td>3</td>\n",
       "      <td>Male</td>\n",
       "      <td>3</td>\n",
       "      <td>Sales Executive</td>\n",
       "      <td>4</td>\n",
       "      <td>Single</td>\n",
       "      <td>5160</td>\n",
       "      <td>4</td>\n",
       "      <td>No</td>\n",
       "      <td>16</td>\n",
       "      <td>3</td>\n",
       "      <td>0</td>\n",
       "      <td>12</td>\n",
       "      <td>3</td>\n",
       "      <td>9</td>\n",
       "      <td>7</td>\n",
       "      <td>7</td>\n",
       "      <td>3</td>\n",
       "      <td>5</td>\n",
       "      <td>1</td>\n",
       "    </tr>\n",
       "    <tr>\n",
       "      <th>3</th>\n",
       "      <td>4</td>\n",
       "      <td>39</td>\n",
       "      <td>0</td>\n",
       "      <td>Travel_Rarely</td>\n",
       "      <td>Research &amp; Development</td>\n",
       "      <td>24</td>\n",
       "      <td>1</td>\n",
       "      <td>Life Sciences</td>\n",
       "      <td>2014</td>\n",
       "      <td>1</td>\n",
       "      <td>Male</td>\n",
       "      <td>3</td>\n",
       "      <td>Research Scientist</td>\n",
       "      <td>4</td>\n",
       "      <td>Single</td>\n",
       "      <td>4108</td>\n",
       "      <td>7</td>\n",
       "      <td>No</td>\n",
       "      <td>13</td>\n",
       "      <td>3</td>\n",
       "      <td>0</td>\n",
       "      <td>18</td>\n",
       "      <td>2</td>\n",
       "      <td>7</td>\n",
       "      <td>7</td>\n",
       "      <td>1</td>\n",
       "      <td>7</td>\n",
       "      <td>4</td>\n",
       "      <td>1</td>\n",
       "    </tr>\n",
       "    <tr>\n",
       "      <th>4</th>\n",
       "      <td>5</td>\n",
       "      <td>37</td>\n",
       "      <td>0</td>\n",
       "      <td>Travel_Rarely</td>\n",
       "      <td>Research &amp; Development</td>\n",
       "      <td>3</td>\n",
       "      <td>3</td>\n",
       "      <td>Other</td>\n",
       "      <td>689</td>\n",
       "      <td>3</td>\n",
       "      <td>Male</td>\n",
       "      <td>3</td>\n",
       "      <td>Manufacturing Director</td>\n",
       "      <td>3</td>\n",
       "      <td>Married</td>\n",
       "      <td>9434</td>\n",
       "      <td>1</td>\n",
       "      <td>No</td>\n",
       "      <td>15</td>\n",
       "      <td>3</td>\n",
       "      <td>1</td>\n",
       "      <td>10</td>\n",
       "      <td>2</td>\n",
       "      <td>10</td>\n",
       "      <td>7</td>\n",
       "      <td>7</td>\n",
       "      <td>8</td>\n",
       "      <td>1</td>\n",
       "      <td>1</td>\n",
       "    </tr>\n",
       "  </tbody>\n",
       "</table>\n",
       "</div>"
      ],
      "text/plain": [
       "   Id  Age  Attrition BusinessTravel              Department  \\\n",
       "0   1   30          0     Non-Travel  Research & Development   \n",
       "1   2   36          0  Travel_Rarely  Research & Development   \n",
       "2   3   55          1  Travel_Rarely                   Sales   \n",
       "3   4   39          0  Travel_Rarely  Research & Development   \n",
       "4   5   37          0  Travel_Rarely  Research & Development   \n",
       "\n",
       "   DistanceFromHome  Education EducationField  EmployeeNumber  \\\n",
       "0                 2          3        Medical             571   \n",
       "1                12          4  Life Sciences            1614   \n",
       "2                 2          1        Medical             842   \n",
       "3                24          1  Life Sciences            2014   \n",
       "4                 3          3          Other             689   \n",
       "\n",
       "   EnvironmentSatisfaction  Gender  JobInvolvement                 JobRole  \\\n",
       "0                        3  Female               3   Laboratory Technician   \n",
       "1                        3  Female               3  Manufacturing Director   \n",
       "2                        3    Male               3         Sales Executive   \n",
       "3                        1    Male               3      Research Scientist   \n",
       "4                        3    Male               3  Manufacturing Director   \n",
       "\n",
       "   JobSatisfaction MaritalStatus  MonthlyIncome  NumCompaniesWorked OverTime  \\\n",
       "0                4        Single           2564                   0       No   \n",
       "1                3       Married           4663                   9      Yes   \n",
       "2                4        Single           5160                   4       No   \n",
       "3                4        Single           4108                   7       No   \n",
       "4                3       Married           9434                   1       No   \n",
       "\n",
       "   PercentSalaryHike  PerformanceRating  StockOptionLevel  TotalWorkingYears  \\\n",
       "0                 14                  3                 0                 12   \n",
       "1                 12                  3                 2                  7   \n",
       "2                 16                  3                 0                 12   \n",
       "3                 13                  3                 0                 18   \n",
       "4                 15                  3                 1                 10   \n",
       "\n",
       "   TrainingTimesLastYear  YearsAtCompany  YearsInCurrentRole  \\\n",
       "0                      2              11                   7   \n",
       "1                      2               3                   2   \n",
       "2                      3               9                   7   \n",
       "3                      2               7                   7   \n",
       "4                      2              10                   7   \n",
       "\n",
       "   YearsSinceLastPromotion  YearsWithCurrManager  CommunicationSkill  \\\n",
       "0                        6                     7                   4   \n",
       "1                        1                     1                   2   \n",
       "2                        7                     3                   5   \n",
       "3                        1                     7                   4   \n",
       "4                        7                     8                   1   \n",
       "\n",
       "   Behaviour  \n",
       "0          1  \n",
       "1          1  \n",
       "2          1  \n",
       "3          1  \n",
       "4          1  "
      ]
     },
     "execution_count": 3,
     "metadata": {},
     "output_type": "execute_result"
    }
   ],
   "source": [
    "data = pd.read_csv(\"/kaggle/input/summeranalytics2020/train.csv\")\n",
    "data2 = pd.read_csv(\"/kaggle/input/summeranalytics2020/test.csv\")\n",
    "data_y = data.Attrition\n",
    "data.head()"
   ]
  },
  {
   "cell_type": "code",
   "execution_count": 4,
   "metadata": {
    "execution": {
     "iopub.execute_input": "2020-09-19T16:57:54.453125Z",
     "iopub.status.busy": "2020-09-19T16:57:54.451720Z",
     "iopub.status.idle": "2020-09-19T16:57:54.458005Z",
     "shell.execute_reply": "2020-09-19T16:57:54.458523Z"
    },
    "papermill": {
     "duration": 0.050317,
     "end_time": "2020-09-19T16:57:54.458692",
     "exception": false,
     "start_time": "2020-09-19T16:57:54.408375",
     "status": "completed"
    },
    "tags": []
   },
   "outputs": [
    {
     "data": {
      "text/plain": [
       "(1628, 29)"
      ]
     },
     "execution_count": 4,
     "metadata": {},
     "output_type": "execute_result"
    }
   ],
   "source": [
    "data.shape"
   ]
  },
  {
   "cell_type": "code",
   "execution_count": 5,
   "metadata": {
    "execution": {
     "iopub.execute_input": "2020-09-19T16:57:54.537412Z",
     "iopub.status.busy": "2020-09-19T16:57:54.536383Z",
     "iopub.status.idle": "2020-09-19T16:57:54.542349Z",
     "shell.execute_reply": "2020-09-19T16:57:54.542960Z"
    },
    "papermill": {
     "duration": 0.047151,
     "end_time": "2020-09-19T16:57:54.543106",
     "exception": false,
     "start_time": "2020-09-19T16:57:54.495955",
     "status": "completed"
    },
    "tags": []
   },
   "outputs": [
    {
     "data": {
      "text/plain": [
       "(470, 28)"
      ]
     },
     "execution_count": 5,
     "metadata": {},
     "output_type": "execute_result"
    }
   ],
   "source": [
    "data2.shape"
   ]
  },
  {
   "cell_type": "markdown",
   "metadata": {
    "papermill": {
     "duration": 0.038311,
     "end_time": "2020-09-19T16:57:54.620137",
     "exception": false,
     "start_time": "2020-09-19T16:57:54.581826",
     "status": "completed"
    },
    "tags": []
   },
   "source": [
    "#   \n",
    "\n",
    "\n",
    "\n",
    "\n",
    "\n",
    "## Data Preprocessing\n",
    "\n"
   ]
  },
  {
   "cell_type": "code",
   "execution_count": 6,
   "metadata": {
    "execution": {
     "iopub.execute_input": "2020-09-19T16:57:54.701570Z",
     "iopub.status.busy": "2020-09-19T16:57:54.700512Z",
     "iopub.status.idle": "2020-09-19T16:57:54.724913Z",
     "shell.execute_reply": "2020-09-19T16:57:54.725612Z"
    },
    "papermill": {
     "duration": 0.066593,
     "end_time": "2020-09-19T16:57:54.725836",
     "exception": false,
     "start_time": "2020-09-19T16:57:54.659243",
     "status": "completed"
    },
    "tags": []
   },
   "outputs": [
    {
     "name": "stdout",
     "output_type": "stream",
     "text": [
      "<class 'pandas.core.frame.DataFrame'>\n",
      "RangeIndex: 1628 entries, 0 to 1627\n",
      "Data columns (total 29 columns):\n",
      " #   Column                   Non-Null Count  Dtype \n",
      "---  ------                   --------------  ----- \n",
      " 0   Id                       1628 non-null   int64 \n",
      " 1   Age                      1628 non-null   int64 \n",
      " 2   Attrition                1628 non-null   int64 \n",
      " 3   BusinessTravel           1628 non-null   object\n",
      " 4   Department               1628 non-null   object\n",
      " 5   DistanceFromHome         1628 non-null   int64 \n",
      " 6   Education                1628 non-null   int64 \n",
      " 7   EducationField           1628 non-null   object\n",
      " 8   EmployeeNumber           1628 non-null   int64 \n",
      " 9   EnvironmentSatisfaction  1628 non-null   int64 \n",
      " 10  Gender                   1628 non-null   object\n",
      " 11  JobInvolvement           1628 non-null   int64 \n",
      " 12  JobRole                  1628 non-null   object\n",
      " 13  JobSatisfaction          1628 non-null   int64 \n",
      " 14  MaritalStatus            1628 non-null   object\n",
      " 15  MonthlyIncome            1628 non-null   int64 \n",
      " 16  NumCompaniesWorked       1628 non-null   int64 \n",
      " 17  OverTime                 1628 non-null   object\n",
      " 18  PercentSalaryHike        1628 non-null   int64 \n",
      " 19  PerformanceRating        1628 non-null   int64 \n",
      " 20  StockOptionLevel         1628 non-null   int64 \n",
      " 21  TotalWorkingYears        1628 non-null   int64 \n",
      " 22  TrainingTimesLastYear    1628 non-null   int64 \n",
      " 23  YearsAtCompany           1628 non-null   int64 \n",
      " 24  YearsInCurrentRole       1628 non-null   int64 \n",
      " 25  YearsSinceLastPromotion  1628 non-null   int64 \n",
      " 26  YearsWithCurrManager     1628 non-null   int64 \n",
      " 27  CommunicationSkill       1628 non-null   int64 \n",
      " 28  Behaviour                1628 non-null   int64 \n",
      "dtypes: int64(22), object(7)\n",
      "memory usage: 369.0+ KB\n"
     ]
    }
   ],
   "source": [
    "data.info()"
   ]
  },
  {
   "cell_type": "code",
   "execution_count": 7,
   "metadata": {
    "execution": {
     "iopub.execute_input": "2020-09-19T16:57:54.808210Z",
     "iopub.status.busy": "2020-09-19T16:57:54.807498Z",
     "iopub.status.idle": "2020-09-19T16:57:54.820624Z",
     "shell.execute_reply": "2020-09-19T16:57:54.821304Z"
    },
    "papermill": {
     "duration": 0.055262,
     "end_time": "2020-09-19T16:57:54.821452",
     "exception": false,
     "start_time": "2020-09-19T16:57:54.766190",
     "status": "completed"
    },
    "tags": []
   },
   "outputs": [
    {
     "name": "stdout",
     "output_type": "stream",
     "text": [
      "<class 'pandas.core.frame.DataFrame'>\n",
      "RangeIndex: 470 entries, 0 to 469\n",
      "Data columns (total 28 columns):\n",
      " #   Column                   Non-Null Count  Dtype \n",
      "---  ------                   --------------  ----- \n",
      " 0   Id                       470 non-null    int64 \n",
      " 1   Age                      470 non-null    int64 \n",
      " 2   BusinessTravel           470 non-null    object\n",
      " 3   Department               470 non-null    object\n",
      " 4   DistanceFromHome         470 non-null    int64 \n",
      " 5   Education                470 non-null    int64 \n",
      " 6   EducationField           470 non-null    object\n",
      " 7   EmployeeNumber           470 non-null    int64 \n",
      " 8   EnvironmentSatisfaction  470 non-null    int64 \n",
      " 9   Gender                   470 non-null    object\n",
      " 10  JobInvolvement           470 non-null    int64 \n",
      " 11  JobRole                  470 non-null    object\n",
      " 12  JobSatisfaction          470 non-null    int64 \n",
      " 13  MaritalStatus            470 non-null    object\n",
      " 14  MonthlyIncome            470 non-null    int64 \n",
      " 15  NumCompaniesWorked       470 non-null    int64 \n",
      " 16  OverTime                 470 non-null    object\n",
      " 17  PercentSalaryHike        470 non-null    int64 \n",
      " 18  PerformanceRating        470 non-null    int64 \n",
      " 19  StockOptionLevel         470 non-null    int64 \n",
      " 20  TotalWorkingYears        470 non-null    int64 \n",
      " 21  TrainingTimesLastYear    470 non-null    int64 \n",
      " 22  YearsAtCompany           470 non-null    int64 \n",
      " 23  YearsInCurrentRole       470 non-null    int64 \n",
      " 24  YearsSinceLastPromotion  470 non-null    int64 \n",
      " 25  YearsWithCurrManager     470 non-null    int64 \n",
      " 26  CommunicationSkill       470 non-null    int64 \n",
      " 27  Behaviour                470 non-null    int64 \n",
      "dtypes: int64(21), object(7)\n",
      "memory usage: 102.9+ KB\n"
     ]
    }
   ],
   "source": [
    "data2.info()"
   ]
  },
  {
   "cell_type": "code",
   "execution_count": 8,
   "metadata": {
    "execution": {
     "iopub.execute_input": "2020-09-19T16:57:54.905208Z",
     "iopub.status.busy": "2020-09-19T16:57:54.904492Z",
     "iopub.status.idle": "2020-09-19T16:57:54.982595Z",
     "shell.execute_reply": "2020-09-19T16:57:54.981874Z"
    },
    "papermill": {
     "duration": 0.120925,
     "end_time": "2020-09-19T16:57:54.982730",
     "exception": false,
     "start_time": "2020-09-19T16:57:54.861805",
     "status": "completed"
    },
    "tags": []
   },
   "outputs": [
    {
     "data": {
      "text/html": [
       "<div>\n",
       "<style scoped>\n",
       "    .dataframe tbody tr th:only-of-type {\n",
       "        vertical-align: middle;\n",
       "    }\n",
       "\n",
       "    .dataframe tbody tr th {\n",
       "        vertical-align: top;\n",
       "    }\n",
       "\n",
       "    .dataframe thead th {\n",
       "        text-align: right;\n",
       "    }\n",
       "</style>\n",
       "<table border=\"1\" class=\"dataframe\">\n",
       "  <thead>\n",
       "    <tr style=\"text-align: right;\">\n",
       "      <th></th>\n",
       "      <th>Id</th>\n",
       "      <th>Age</th>\n",
       "      <th>Attrition</th>\n",
       "      <th>DistanceFromHome</th>\n",
       "      <th>Education</th>\n",
       "      <th>EmployeeNumber</th>\n",
       "      <th>EnvironmentSatisfaction</th>\n",
       "      <th>JobInvolvement</th>\n",
       "      <th>JobSatisfaction</th>\n",
       "      <th>MonthlyIncome</th>\n",
       "      <th>NumCompaniesWorked</th>\n",
       "      <th>PercentSalaryHike</th>\n",
       "      <th>PerformanceRating</th>\n",
       "      <th>StockOptionLevel</th>\n",
       "      <th>TotalWorkingYears</th>\n",
       "      <th>TrainingTimesLastYear</th>\n",
       "      <th>YearsAtCompany</th>\n",
       "      <th>YearsInCurrentRole</th>\n",
       "      <th>YearsSinceLastPromotion</th>\n",
       "      <th>YearsWithCurrManager</th>\n",
       "      <th>CommunicationSkill</th>\n",
       "      <th>Behaviour</th>\n",
       "    </tr>\n",
       "  </thead>\n",
       "  <tbody>\n",
       "    <tr>\n",
       "      <th>count</th>\n",
       "      <td>1628.000000</td>\n",
       "      <td>1628.000000</td>\n",
       "      <td>1628.000000</td>\n",
       "      <td>1628.000000</td>\n",
       "      <td>1628.000000</td>\n",
       "      <td>1628.000000</td>\n",
       "      <td>1628.000000</td>\n",
       "      <td>1628.000000</td>\n",
       "      <td>1628.000000</td>\n",
       "      <td>1628.000000</td>\n",
       "      <td>1628.000000</td>\n",
       "      <td>1628.000000</td>\n",
       "      <td>1628.000000</td>\n",
       "      <td>1628.000000</td>\n",
       "      <td>1628.000000</td>\n",
       "      <td>1628.000000</td>\n",
       "      <td>1628.000000</td>\n",
       "      <td>1628.000000</td>\n",
       "      <td>1628.000000</td>\n",
       "      <td>1628.000000</td>\n",
       "      <td>1628.000000</td>\n",
       "      <td>1628.0</td>\n",
       "    </tr>\n",
       "    <tr>\n",
       "      <th>mean</th>\n",
       "      <td>814.500000</td>\n",
       "      <td>35.645577</td>\n",
       "      <td>0.482187</td>\n",
       "      <td>9.735258</td>\n",
       "      <td>2.884521</td>\n",
       "      <td>1000.985872</td>\n",
       "      <td>2.646192</td>\n",
       "      <td>2.650491</td>\n",
       "      <td>2.639435</td>\n",
       "      <td>5785.524570</td>\n",
       "      <td>2.761671</td>\n",
       "      <td>15.207617</td>\n",
       "      <td>3.155405</td>\n",
       "      <td>0.692260</td>\n",
       "      <td>9.949017</td>\n",
       "      <td>2.752457</td>\n",
       "      <td>6.092752</td>\n",
       "      <td>3.614865</td>\n",
       "      <td>2.049140</td>\n",
       "      <td>3.551597</td>\n",
       "      <td>3.135749</td>\n",
       "      <td>1.0</td>\n",
       "    </tr>\n",
       "    <tr>\n",
       "      <th>std</th>\n",
       "      <td>470.107435</td>\n",
       "      <td>9.481794</td>\n",
       "      <td>0.499836</td>\n",
       "      <td>8.306546</td>\n",
       "      <td>1.020470</td>\n",
       "      <td>585.417694</td>\n",
       "      <td>1.125283</td>\n",
       "      <td>0.736330</td>\n",
       "      <td>1.096272</td>\n",
       "      <td>4339.293147</td>\n",
       "      <td>2.549995</td>\n",
       "      <td>3.686703</td>\n",
       "      <td>0.362402</td>\n",
       "      <td>0.864808</td>\n",
       "      <td>7.482936</td>\n",
       "      <td>1.288033</td>\n",
       "      <td>5.921168</td>\n",
       "      <td>3.481051</td>\n",
       "      <td>3.138287</td>\n",
       "      <td>3.494369</td>\n",
       "      <td>1.408770</td>\n",
       "      <td>0.0</td>\n",
       "    </tr>\n",
       "    <tr>\n",
       "      <th>min</th>\n",
       "      <td>1.000000</td>\n",
       "      <td>18.000000</td>\n",
       "      <td>0.000000</td>\n",
       "      <td>1.000000</td>\n",
       "      <td>1.000000</td>\n",
       "      <td>1.000000</td>\n",
       "      <td>1.000000</td>\n",
       "      <td>1.000000</td>\n",
       "      <td>1.000000</td>\n",
       "      <td>1009.000000</td>\n",
       "      <td>0.000000</td>\n",
       "      <td>11.000000</td>\n",
       "      <td>3.000000</td>\n",
       "      <td>0.000000</td>\n",
       "      <td>0.000000</td>\n",
       "      <td>0.000000</td>\n",
       "      <td>0.000000</td>\n",
       "      <td>0.000000</td>\n",
       "      <td>0.000000</td>\n",
       "      <td>0.000000</td>\n",
       "      <td>1.000000</td>\n",
       "      <td>1.0</td>\n",
       "    </tr>\n",
       "    <tr>\n",
       "      <th>25%</th>\n",
       "      <td>407.750000</td>\n",
       "      <td>29.000000</td>\n",
       "      <td>0.000000</td>\n",
       "      <td>2.000000</td>\n",
       "      <td>2.000000</td>\n",
       "      <td>509.250000</td>\n",
       "      <td>2.000000</td>\n",
       "      <td>2.000000</td>\n",
       "      <td>2.000000</td>\n",
       "      <td>2625.000000</td>\n",
       "      <td>1.000000</td>\n",
       "      <td>12.000000</td>\n",
       "      <td>3.000000</td>\n",
       "      <td>0.000000</td>\n",
       "      <td>5.000000</td>\n",
       "      <td>2.000000</td>\n",
       "      <td>2.000000</td>\n",
       "      <td>1.000000</td>\n",
       "      <td>0.000000</td>\n",
       "      <td>0.000000</td>\n",
       "      <td>2.000000</td>\n",
       "      <td>1.0</td>\n",
       "    </tr>\n",
       "    <tr>\n",
       "      <th>50%</th>\n",
       "      <td>814.500000</td>\n",
       "      <td>34.000000</td>\n",
       "      <td>0.000000</td>\n",
       "      <td>8.000000</td>\n",
       "      <td>3.000000</td>\n",
       "      <td>977.000000</td>\n",
       "      <td>3.000000</td>\n",
       "      <td>3.000000</td>\n",
       "      <td>3.000000</td>\n",
       "      <td>4304.000000</td>\n",
       "      <td>2.000000</td>\n",
       "      <td>14.000000</td>\n",
       "      <td>3.000000</td>\n",
       "      <td>0.000000</td>\n",
       "      <td>8.000000</td>\n",
       "      <td>3.000000</td>\n",
       "      <td>5.000000</td>\n",
       "      <td>2.000000</td>\n",
       "      <td>1.000000</td>\n",
       "      <td>2.000000</td>\n",
       "      <td>3.000000</td>\n",
       "      <td>1.0</td>\n",
       "    </tr>\n",
       "    <tr>\n",
       "      <th>75%</th>\n",
       "      <td>1221.250000</td>\n",
       "      <td>42.000000</td>\n",
       "      <td>1.000000</td>\n",
       "      <td>15.000000</td>\n",
       "      <td>4.000000</td>\n",
       "      <td>1494.000000</td>\n",
       "      <td>4.000000</td>\n",
       "      <td>3.000000</td>\n",
       "      <td>4.000000</td>\n",
       "      <td>7124.250000</td>\n",
       "      <td>4.000000</td>\n",
       "      <td>18.000000</td>\n",
       "      <td>3.000000</td>\n",
       "      <td>1.000000</td>\n",
       "      <td>13.000000</td>\n",
       "      <td>3.000000</td>\n",
       "      <td>8.000000</td>\n",
       "      <td>7.000000</td>\n",
       "      <td>2.000000</td>\n",
       "      <td>7.000000</td>\n",
       "      <td>4.000000</td>\n",
       "      <td>1.0</td>\n",
       "    </tr>\n",
       "    <tr>\n",
       "      <th>max</th>\n",
       "      <td>1628.000000</td>\n",
       "      <td>60.000000</td>\n",
       "      <td>1.000000</td>\n",
       "      <td>29.000000</td>\n",
       "      <td>5.000000</td>\n",
       "      <td>2068.000000</td>\n",
       "      <td>4.000000</td>\n",
       "      <td>4.000000</td>\n",
       "      <td>4.000000</td>\n",
       "      <td>19999.000000</td>\n",
       "      <td>9.000000</td>\n",
       "      <td>25.000000</td>\n",
       "      <td>4.000000</td>\n",
       "      <td>3.000000</td>\n",
       "      <td>38.000000</td>\n",
       "      <td>6.000000</td>\n",
       "      <td>37.000000</td>\n",
       "      <td>18.000000</td>\n",
       "      <td>15.000000</td>\n",
       "      <td>17.000000</td>\n",
       "      <td>5.000000</td>\n",
       "      <td>1.0</td>\n",
       "    </tr>\n",
       "  </tbody>\n",
       "</table>\n",
       "</div>"
      ],
      "text/plain": [
       "                Id          Age    Attrition  DistanceFromHome    Education  \\\n",
       "count  1628.000000  1628.000000  1628.000000       1628.000000  1628.000000   \n",
       "mean    814.500000    35.645577     0.482187          9.735258     2.884521   \n",
       "std     470.107435     9.481794     0.499836          8.306546     1.020470   \n",
       "min       1.000000    18.000000     0.000000          1.000000     1.000000   \n",
       "25%     407.750000    29.000000     0.000000          2.000000     2.000000   \n",
       "50%     814.500000    34.000000     0.000000          8.000000     3.000000   \n",
       "75%    1221.250000    42.000000     1.000000         15.000000     4.000000   \n",
       "max    1628.000000    60.000000     1.000000         29.000000     5.000000   \n",
       "\n",
       "       EmployeeNumber  EnvironmentSatisfaction  JobInvolvement  \\\n",
       "count     1628.000000              1628.000000     1628.000000   \n",
       "mean      1000.985872                 2.646192        2.650491   \n",
       "std        585.417694                 1.125283        0.736330   \n",
       "min          1.000000                 1.000000        1.000000   \n",
       "25%        509.250000                 2.000000        2.000000   \n",
       "50%        977.000000                 3.000000        3.000000   \n",
       "75%       1494.000000                 4.000000        3.000000   \n",
       "max       2068.000000                 4.000000        4.000000   \n",
       "\n",
       "       JobSatisfaction  MonthlyIncome  NumCompaniesWorked  PercentSalaryHike  \\\n",
       "count      1628.000000    1628.000000         1628.000000        1628.000000   \n",
       "mean          2.639435    5785.524570            2.761671          15.207617   \n",
       "std           1.096272    4339.293147            2.549995           3.686703   \n",
       "min           1.000000    1009.000000            0.000000          11.000000   \n",
       "25%           2.000000    2625.000000            1.000000          12.000000   \n",
       "50%           3.000000    4304.000000            2.000000          14.000000   \n",
       "75%           4.000000    7124.250000            4.000000          18.000000   \n",
       "max           4.000000   19999.000000            9.000000          25.000000   \n",
       "\n",
       "       PerformanceRating  StockOptionLevel  TotalWorkingYears  \\\n",
       "count        1628.000000       1628.000000        1628.000000   \n",
       "mean            3.155405          0.692260           9.949017   \n",
       "std             0.362402          0.864808           7.482936   \n",
       "min             3.000000          0.000000           0.000000   \n",
       "25%             3.000000          0.000000           5.000000   \n",
       "50%             3.000000          0.000000           8.000000   \n",
       "75%             3.000000          1.000000          13.000000   \n",
       "max             4.000000          3.000000          38.000000   \n",
       "\n",
       "       TrainingTimesLastYear  YearsAtCompany  YearsInCurrentRole  \\\n",
       "count            1628.000000     1628.000000         1628.000000   \n",
       "mean                2.752457        6.092752            3.614865   \n",
       "std                 1.288033        5.921168            3.481051   \n",
       "min                 0.000000        0.000000            0.000000   \n",
       "25%                 2.000000        2.000000            1.000000   \n",
       "50%                 3.000000        5.000000            2.000000   \n",
       "75%                 3.000000        8.000000            7.000000   \n",
       "max                 6.000000       37.000000           18.000000   \n",
       "\n",
       "       YearsSinceLastPromotion  YearsWithCurrManager  CommunicationSkill  \\\n",
       "count              1628.000000           1628.000000         1628.000000   \n",
       "mean                  2.049140              3.551597            3.135749   \n",
       "std                   3.138287              3.494369            1.408770   \n",
       "min                   0.000000              0.000000            1.000000   \n",
       "25%                   0.000000              0.000000            2.000000   \n",
       "50%                   1.000000              2.000000            3.000000   \n",
       "75%                   2.000000              7.000000            4.000000   \n",
       "max                  15.000000             17.000000            5.000000   \n",
       "\n",
       "       Behaviour  \n",
       "count     1628.0  \n",
       "mean         1.0  \n",
       "std          0.0  \n",
       "min          1.0  \n",
       "25%          1.0  \n",
       "50%          1.0  \n",
       "75%          1.0  \n",
       "max          1.0  "
      ]
     },
     "execution_count": 8,
     "metadata": {},
     "output_type": "execute_result"
    }
   ],
   "source": [
    "data.describe()"
   ]
  },
  {
   "cell_type": "markdown",
   "metadata": {
    "papermill": {
     "duration": 0.039711,
     "end_time": "2020-09-19T16:57:55.063594",
     "exception": false,
     "start_time": "2020-09-19T16:57:55.023883",
     "status": "completed"
    },
    "tags": []
   },
   "source": [
    "now we drop column which is not important"
   ]
  },
  {
   "cell_type": "code",
   "execution_count": 9,
   "metadata": {
    "execution": {
     "iopub.execute_input": "2020-09-19T16:57:55.147177Z",
     "iopub.status.busy": "2020-09-19T16:57:55.146465Z",
     "iopub.status.idle": "2020-09-19T16:57:55.154503Z",
     "shell.execute_reply": "2020-09-19T16:57:55.153834Z"
    },
    "papermill": {
     "duration": 0.051138,
     "end_time": "2020-09-19T16:57:55.154618",
     "exception": false,
     "start_time": "2020-09-19T16:57:55.103480",
     "status": "completed"
    },
    "tags": []
   },
   "outputs": [],
   "source": [
    "data = data.drop(['Id','Attrition','EmployeeNumber','Behaviour'],axis=1)\n",
    "data2 = data2.drop(['Id','EmployeeNumber','Behaviour'],axis=1)"
   ]
  },
  {
   "cell_type": "markdown",
   "metadata": {
    "papermill": {
     "duration": 0.041468,
     "end_time": "2020-09-19T16:57:55.236153",
     "exception": false,
     "start_time": "2020-09-19T16:57:55.194685",
     "status": "completed"
    },
    "tags": []
   },
   "source": [
    "#   \n",
    "\n",
    "\n",
    "\n",
    "\n",
    "\n",
    "## Encoding of Column with Objective Datatype"
   ]
  },
  {
   "cell_type": "code",
   "execution_count": 10,
   "metadata": {
    "execution": {
     "iopub.execute_input": "2020-09-19T16:57:55.324219Z",
     "iopub.status.busy": "2020-09-19T16:57:55.323272Z",
     "iopub.status.idle": "2020-09-19T16:57:55.327903Z",
     "shell.execute_reply": "2020-09-19T16:57:55.327301Z"
    },
    "papermill": {
     "duration": 0.052,
     "end_time": "2020-09-19T16:57:55.328017",
     "exception": false,
     "start_time": "2020-09-19T16:57:55.276017",
     "status": "completed"
    },
    "tags": []
   },
   "outputs": [
    {
     "data": {
      "text/plain": [
       "['BusinessTravel',\n",
       " 'Department',\n",
       " 'EducationField',\n",
       " 'Gender',\n",
       " 'JobRole',\n",
       " 'MaritalStatus',\n",
       " 'OverTime']"
      ]
     },
     "execution_count": 10,
     "metadata": {},
     "output_type": "execute_result"
    }
   ],
   "source": [
    "catagory_col = [col for col in data.columns if data[col].dtype=='object']\n",
    "catagory_col"
   ]
  },
  {
   "cell_type": "code",
   "execution_count": 11,
   "metadata": {
    "execution": {
     "iopub.execute_input": "2020-09-19T16:57:55.419688Z",
     "iopub.status.busy": "2020-09-19T16:57:55.416826Z",
     "iopub.status.idle": "2020-09-19T16:57:55.439766Z",
     "shell.execute_reply": "2020-09-19T16:57:55.440482Z"
    },
    "papermill": {
     "duration": 0.072166,
     "end_time": "2020-09-19T16:57:55.440728",
     "exception": false,
     "start_time": "2020-09-19T16:57:55.368562",
     "status": "completed"
    },
    "tags": []
   },
   "outputs": [
    {
     "name": "stdout",
     "output_type": "stream",
     "text": [
      "BusinessTravel : ['Non-Travel' 'Travel_Rarely' 'Travel_Frequently']\n",
      "Travel_Rarely        1105\n",
      "Travel_Frequently     403\n",
      "Non-Travel            120\n",
      "Name: BusinessTravel, dtype: int64\n",
      "____________________________________________________\n",
      "\n",
      "Department : ['Research & Development' 'Sales' 'Human Resources']\n",
      "Research & Development    979\n",
      "Sales                     568\n",
      "Human Resources            81\n",
      "Name: Department, dtype: int64\n",
      "____________________________________________________\n",
      "\n",
      "EducationField : ['Medical' 'Life Sciences' 'Other' 'Marketing' 'Technical Degree'\n",
      " 'Human Resources']\n",
      "Life Sciences       623\n",
      "Medical             521\n",
      "Marketing           197\n",
      "Technical Degree    162\n",
      "Other                85\n",
      "Human Resources      40\n",
      "Name: EducationField, dtype: int64\n",
      "____________________________________________________\n",
      "\n",
      "Gender : ['Female' 'Male']\n",
      "Male      996\n",
      "Female    632\n",
      "Name: Gender, dtype: int64\n",
      "____________________________________________________\n",
      "\n",
      "JobRole : ['Laboratory Technician' 'Manufacturing Director' 'Sales Executive'\n",
      " 'Research Scientist' 'Sales Representative' 'Healthcare Representative'\n",
      " 'Research Director' 'Human Resources' 'Manager']\n",
      "Sales Executive              365\n",
      "Research Scientist           341\n",
      "Laboratory Technician        310\n",
      "Sales Representative         172\n",
      "Manufacturing Director       121\n",
      "Healthcare Representative    110\n",
      "Manager                       90\n",
      "Human Resources               72\n",
      "Research Director             47\n",
      "Name: JobRole, dtype: int64\n",
      "____________________________________________________\n",
      "\n",
      "MaritalStatus : ['Single' 'Married' 'Divorced']\n",
      "Married     681\n",
      "Single      630\n",
      "Divorced    317\n",
      "Name: MaritalStatus, dtype: int64\n",
      "____________________________________________________\n",
      "\n",
      "OverTime : ['No' 'Yes']\n",
      "No     1000\n",
      "Yes     628\n",
      "Name: OverTime, dtype: int64\n",
      "____________________________________________________\n",
      "\n"
     ]
    }
   ],
   "source": [
    "for column in data[catagory_col]:\n",
    "    print(str(column) + str(' : ') + str(data[column].unique()))\n",
    "    print(data[column].value_counts())\n",
    "    print('____________________________________________________')\n",
    "    print('')"
   ]
  },
  {
   "cell_type": "code",
   "execution_count": 12,
   "metadata": {
    "execution": {
     "iopub.execute_input": "2020-09-19T16:57:55.531567Z",
     "iopub.status.busy": "2020-09-19T16:57:55.530796Z",
     "iopub.status.idle": "2020-09-19T16:57:55.638748Z",
     "shell.execute_reply": "2020-09-19T16:57:55.637759Z"
    },
    "papermill": {
     "duration": 0.1566,
     "end_time": "2020-09-19T16:57:55.638872",
     "exception": false,
     "start_time": "2020-09-19T16:57:55.482272",
     "status": "completed"
    },
    "tags": []
   },
   "outputs": [],
   "source": [
    "# import librery for lable encoding\n",
    "\n",
    "from sklearn.preprocessing import LabelEncoder\n",
    "\n",
    "l_encoder = LabelEncoder()\n",
    "\n",
    "for column in catagory_col:\n",
    "    data[column+'_n'] = l_encoder.fit_transform(data[column])\n",
    "    data2[column+'_n'] = l_encoder.fit_transform(data2[column])\n",
    "    data = data.drop([column],axis=1)\n",
    "    data2 = data2.drop([column],axis=1)"
   ]
  },
  {
   "cell_type": "code",
   "execution_count": 14,
   "metadata": {
    "execution": {
     "iopub.execute_input": "2020-09-19T16:57:55.903183Z",
     "iopub.status.busy": "2020-09-19T16:57:55.902058Z",
     "iopub.status.idle": "2020-09-19T16:57:55.923118Z",
     "shell.execute_reply": "2020-09-19T16:57:55.923614Z"
    },
    "papermill": {
     "duration": 0.066037,
     "end_time": "2020-09-19T16:57:55.923786",
     "exception": false,
     "start_time": "2020-09-19T16:57:55.857749",
     "status": "completed"
    },
    "tags": []
   },
   "outputs": [
    {
     "data": {
      "text/html": [
       "<div>\n",
       "<style scoped>\n",
       "    .dataframe tbody tr th:only-of-type {\n",
       "        vertical-align: middle;\n",
       "    }\n",
       "\n",
       "    .dataframe tbody tr th {\n",
       "        vertical-align: top;\n",
       "    }\n",
       "\n",
       "    .dataframe thead th {\n",
       "        text-align: right;\n",
       "    }\n",
       "</style>\n",
       "<table border=\"1\" class=\"dataframe\">\n",
       "  <thead>\n",
       "    <tr style=\"text-align: right;\">\n",
       "      <th></th>\n",
       "      <th>Age</th>\n",
       "      <th>DistanceFromHome</th>\n",
       "      <th>Education</th>\n",
       "      <th>EnvironmentSatisfaction</th>\n",
       "      <th>JobInvolvement</th>\n",
       "      <th>JobSatisfaction</th>\n",
       "      <th>MonthlyIncome</th>\n",
       "      <th>NumCompaniesWorked</th>\n",
       "      <th>PercentSalaryHike</th>\n",
       "      <th>PerformanceRating</th>\n",
       "      <th>StockOptionLevel</th>\n",
       "      <th>TotalWorkingYears</th>\n",
       "      <th>TrainingTimesLastYear</th>\n",
       "      <th>YearsAtCompany</th>\n",
       "      <th>YearsInCurrentRole</th>\n",
       "      <th>YearsSinceLastPromotion</th>\n",
       "      <th>YearsWithCurrManager</th>\n",
       "      <th>CommunicationSkill</th>\n",
       "      <th>BusinessTravel_n</th>\n",
       "      <th>Department_n</th>\n",
       "      <th>EducationField_n</th>\n",
       "      <th>Gender_n</th>\n",
       "      <th>JobRole_n</th>\n",
       "      <th>MaritalStatus_n</th>\n",
       "      <th>OverTime_n</th>\n",
       "    </tr>\n",
       "  </thead>\n",
       "  <tbody>\n",
       "    <tr>\n",
       "      <th>0</th>\n",
       "      <td>30</td>\n",
       "      <td>2</td>\n",
       "      <td>3</td>\n",
       "      <td>3</td>\n",
       "      <td>3</td>\n",
       "      <td>4</td>\n",
       "      <td>2564</td>\n",
       "      <td>0</td>\n",
       "      <td>14</td>\n",
       "      <td>3</td>\n",
       "      <td>0</td>\n",
       "      <td>12</td>\n",
       "      <td>2</td>\n",
       "      <td>11</td>\n",
       "      <td>7</td>\n",
       "      <td>6</td>\n",
       "      <td>7</td>\n",
       "      <td>4</td>\n",
       "      <td>0</td>\n",
       "      <td>1</td>\n",
       "      <td>3</td>\n",
       "      <td>0</td>\n",
       "      <td>2</td>\n",
       "      <td>2</td>\n",
       "      <td>0</td>\n",
       "    </tr>\n",
       "    <tr>\n",
       "      <th>1</th>\n",
       "      <td>36</td>\n",
       "      <td>12</td>\n",
       "      <td>4</td>\n",
       "      <td>3</td>\n",
       "      <td>3</td>\n",
       "      <td>3</td>\n",
       "      <td>4663</td>\n",
       "      <td>9</td>\n",
       "      <td>12</td>\n",
       "      <td>3</td>\n",
       "      <td>2</td>\n",
       "      <td>7</td>\n",
       "      <td>2</td>\n",
       "      <td>3</td>\n",
       "      <td>2</td>\n",
       "      <td>1</td>\n",
       "      <td>1</td>\n",
       "      <td>2</td>\n",
       "      <td>2</td>\n",
       "      <td>1</td>\n",
       "      <td>1</td>\n",
       "      <td>0</td>\n",
       "      <td>4</td>\n",
       "      <td>1</td>\n",
       "      <td>1</td>\n",
       "    </tr>\n",
       "    <tr>\n",
       "      <th>2</th>\n",
       "      <td>55</td>\n",
       "      <td>2</td>\n",
       "      <td>1</td>\n",
       "      <td>3</td>\n",
       "      <td>3</td>\n",
       "      <td>4</td>\n",
       "      <td>5160</td>\n",
       "      <td>4</td>\n",
       "      <td>16</td>\n",
       "      <td>3</td>\n",
       "      <td>0</td>\n",
       "      <td>12</td>\n",
       "      <td>3</td>\n",
       "      <td>9</td>\n",
       "      <td>7</td>\n",
       "      <td>7</td>\n",
       "      <td>3</td>\n",
       "      <td>5</td>\n",
       "      <td>2</td>\n",
       "      <td>2</td>\n",
       "      <td>3</td>\n",
       "      <td>1</td>\n",
       "      <td>7</td>\n",
       "      <td>2</td>\n",
       "      <td>0</td>\n",
       "    </tr>\n",
       "    <tr>\n",
       "      <th>3</th>\n",
       "      <td>39</td>\n",
       "      <td>24</td>\n",
       "      <td>1</td>\n",
       "      <td>1</td>\n",
       "      <td>3</td>\n",
       "      <td>4</td>\n",
       "      <td>4108</td>\n",
       "      <td>7</td>\n",
       "      <td>13</td>\n",
       "      <td>3</td>\n",
       "      <td>0</td>\n",
       "      <td>18</td>\n",
       "      <td>2</td>\n",
       "      <td>7</td>\n",
       "      <td>7</td>\n",
       "      <td>1</td>\n",
       "      <td>7</td>\n",
       "      <td>4</td>\n",
       "      <td>2</td>\n",
       "      <td>1</td>\n",
       "      <td>1</td>\n",
       "      <td>1</td>\n",
       "      <td>6</td>\n",
       "      <td>2</td>\n",
       "      <td>0</td>\n",
       "    </tr>\n",
       "    <tr>\n",
       "      <th>4</th>\n",
       "      <td>37</td>\n",
       "      <td>3</td>\n",
       "      <td>3</td>\n",
       "      <td>3</td>\n",
       "      <td>3</td>\n",
       "      <td>3</td>\n",
       "      <td>9434</td>\n",
       "      <td>1</td>\n",
       "      <td>15</td>\n",
       "      <td>3</td>\n",
       "      <td>1</td>\n",
       "      <td>10</td>\n",
       "      <td>2</td>\n",
       "      <td>10</td>\n",
       "      <td>7</td>\n",
       "      <td>7</td>\n",
       "      <td>8</td>\n",
       "      <td>1</td>\n",
       "      <td>2</td>\n",
       "      <td>1</td>\n",
       "      <td>4</td>\n",
       "      <td>1</td>\n",
       "      <td>4</td>\n",
       "      <td>1</td>\n",
       "      <td>0</td>\n",
       "    </tr>\n",
       "  </tbody>\n",
       "</table>\n",
       "</div>"
      ],
      "text/plain": [
       "   Age  DistanceFromHome  Education  EnvironmentSatisfaction  JobInvolvement  \\\n",
       "0   30                 2          3                        3               3   \n",
       "1   36                12          4                        3               3   \n",
       "2   55                 2          1                        3               3   \n",
       "3   39                24          1                        1               3   \n",
       "4   37                 3          3                        3               3   \n",
       "\n",
       "   JobSatisfaction  MonthlyIncome  NumCompaniesWorked  PercentSalaryHike  \\\n",
       "0                4           2564                   0                 14   \n",
       "1                3           4663                   9                 12   \n",
       "2                4           5160                   4                 16   \n",
       "3                4           4108                   7                 13   \n",
       "4                3           9434                   1                 15   \n",
       "\n",
       "   PerformanceRating  StockOptionLevel  TotalWorkingYears  \\\n",
       "0                  3                 0                 12   \n",
       "1                  3                 2                  7   \n",
       "2                  3                 0                 12   \n",
       "3                  3                 0                 18   \n",
       "4                  3                 1                 10   \n",
       "\n",
       "   TrainingTimesLastYear  YearsAtCompany  YearsInCurrentRole  \\\n",
       "0                      2              11                   7   \n",
       "1                      2               3                   2   \n",
       "2                      3               9                   7   \n",
       "3                      2               7                   7   \n",
       "4                      2              10                   7   \n",
       "\n",
       "   YearsSinceLastPromotion  YearsWithCurrManager  CommunicationSkill  \\\n",
       "0                        6                     7                   4   \n",
       "1                        1                     1                   2   \n",
       "2                        7                     3                   5   \n",
       "3                        1                     7                   4   \n",
       "4                        7                     8                   1   \n",
       "\n",
       "   BusinessTravel_n  Department_n  EducationField_n  Gender_n  JobRole_n  \\\n",
       "0                 0             1                 3         0          2   \n",
       "1                 2             1                 1         0          4   \n",
       "2                 2             2                 3         1          7   \n",
       "3                 2             1                 1         1          6   \n",
       "4                 2             1                 4         1          4   \n",
       "\n",
       "   MaritalStatus_n  OverTime_n  \n",
       "0                2           0  \n",
       "1                1           1  \n",
       "2                2           0  \n",
       "3                2           0  \n",
       "4                1           0  "
      ]
     },
     "execution_count": 14,
     "metadata": {},
     "output_type": "execute_result"
    }
   ],
   "source": [
    "data.head()"
   ]
  },
  {
   "cell_type": "code",
   "execution_count": 15,
   "metadata": {
    "execution": {
     "iopub.execute_input": "2020-09-19T16:57:56.013129Z",
     "iopub.status.busy": "2020-09-19T16:57:56.012439Z",
     "iopub.status.idle": "2020-09-19T16:57:56.019684Z",
     "shell.execute_reply": "2020-09-19T16:57:56.018976Z"
    },
    "papermill": {
     "duration": 0.053088,
     "end_time": "2020-09-19T16:57:56.019801",
     "exception": false,
     "start_time": "2020-09-19T16:57:55.966713",
     "status": "completed"
    },
    "tags": []
   },
   "outputs": [
    {
     "data": {
      "text/plain": [
       "(1628, 25)"
      ]
     },
     "execution_count": 15,
     "metadata": {},
     "output_type": "execute_result"
    }
   ],
   "source": [
    "data.shape"
   ]
  },
  {
   "cell_type": "markdown",
   "metadata": {
    "papermill": {
     "duration": 0.042993,
     "end_time": "2020-09-19T16:57:56.106320",
     "exception": false,
     "start_time": "2020-09-19T16:57:56.063327",
     "status": "completed"
    },
    "tags": []
   },
   "source": [
    "#  \n",
    "\n",
    "\n",
    "\n",
    "\n",
    "\n",
    "## Standardizing data"
   ]
  },
  {
   "cell_type": "code",
   "execution_count": 1,
   "metadata": {
    "execution": {
     "iopub.execute_input": "2020-09-19T16:57:56.197581Z",
     "iopub.status.busy": "2020-09-19T16:57:56.196816Z",
     "iopub.status.idle": "2020-09-19T16:57:56.200385Z",
     "shell.execute_reply": "2020-09-19T16:57:56.199798Z"
    },
    "papermill": {
     "duration": 0.050957,
     "end_time": "2020-09-19T16:57:56.200505",
     "exception": false,
     "start_time": "2020-09-19T16:57:56.149548",
     "status": "completed"
    },
    "tags": []
   },
   "outputs": [],
   "source": [
    "# make set ofcolumn required standardizing\n",
    "\n"
   ]
  },
  {
   "cell_type": "code",
   "execution_count": 17,
   "metadata": {
    "execution": {
     "iopub.execute_input": "2020-09-19T16:57:56.312167Z",
     "iopub.status.busy": "2020-09-19T16:57:56.311023Z",
     "iopub.status.idle": "2020-09-19T16:57:56.315141Z",
     "shell.execute_reply": "2020-09-19T16:57:56.316274Z"
    },
    "papermill": {
     "duration": 0.064338,
     "end_time": "2020-09-19T16:57:56.316540",
     "exception": false,
     "start_time": "2020-09-19T16:57:56.252202",
     "status": "completed"
    },
    "tags": []
   },
   "outputs": [
    {
     "ename": "SyntaxError",
     "evalue": "EOF while scanning triple-quoted string literal (<ipython-input-17-91165df4ec4f>, line 13)",
     "output_type": "error",
     "traceback": [
      "\u001b[0;36m  File \u001b[0;32m\"<ipython-input-17-91165df4ec4f>\"\u001b[0;36m, line \u001b[0;32m13\u001b[0m\n\u001b[0;31m    data2 = pd.DataFrame(data2_arr,columns = data2.columns)\u001b[0m\n\u001b[0m                                                           \n^\u001b[0m\n\u001b[0;31mSyntaxError\u001b[0m\u001b[0;31m:\u001b[0m EOF while scanning triple-quoted string literal\n"
     ]
    }
   ],
   "source": [
    "# runonly if we want to modeling on nontree based model\n",
    "\n",
    "\"\"\" \n",
    "\n",
    "from sklearn.preprocessing import StandardScaler\n",
    "\n",
    "scaler = StandardScaler()\n",
    "\n",
    "data_arr = scaler.fit_transform(data)\n",
    "data2_arr = scaler.fit_transform(data2)\n",
    "\n",
    "data = pd.DataFrame(data_arr,columns = data.columns)\n",
    "data2 = pd.DataFrame(data2_arr,columns = data2.columns)"
   ]
  },
  {
   "cell_type": "code",
   "execution_count": 18,
   "metadata": {
    "execution": {
     "iopub.execute_input": "2020-09-19T16:57:56.428894Z",
     "iopub.status.busy": "2020-09-19T16:57:56.426510Z",
     "iopub.status.idle": "2020-09-19T16:57:56.447399Z",
     "shell.execute_reply": "2020-09-19T16:57:56.447942Z"
    },
    "papermill": {
     "duration": 0.071298,
     "end_time": "2020-09-19T16:57:56.448101",
     "exception": false,
     "start_time": "2020-09-19T16:57:56.376803",
     "status": "completed"
    },
    "tags": []
   },
   "outputs": [
    {
     "data": {
      "text/html": [
       "<div>\n",
       "<style scoped>\n",
       "    .dataframe tbody tr th:only-of-type {\n",
       "        vertical-align: middle;\n",
       "    }\n",
       "\n",
       "    .dataframe tbody tr th {\n",
       "        vertical-align: top;\n",
       "    }\n",
       "\n",
       "    .dataframe thead th {\n",
       "        text-align: right;\n",
       "    }\n",
       "</style>\n",
       "<table border=\"1\" class=\"dataframe\">\n",
       "  <thead>\n",
       "    <tr style=\"text-align: right;\">\n",
       "      <th></th>\n",
       "      <th>Age</th>\n",
       "      <th>DistanceFromHome</th>\n",
       "      <th>Education</th>\n",
       "      <th>EnvironmentSatisfaction</th>\n",
       "      <th>JobInvolvement</th>\n",
       "      <th>JobSatisfaction</th>\n",
       "      <th>MonthlyIncome</th>\n",
       "      <th>NumCompaniesWorked</th>\n",
       "      <th>PercentSalaryHike</th>\n",
       "      <th>PerformanceRating</th>\n",
       "      <th>StockOptionLevel</th>\n",
       "      <th>TotalWorkingYears</th>\n",
       "      <th>TrainingTimesLastYear</th>\n",
       "      <th>YearsAtCompany</th>\n",
       "      <th>YearsInCurrentRole</th>\n",
       "      <th>YearsSinceLastPromotion</th>\n",
       "      <th>YearsWithCurrManager</th>\n",
       "      <th>CommunicationSkill</th>\n",
       "      <th>BusinessTravel_n</th>\n",
       "      <th>Department_n</th>\n",
       "      <th>EducationField_n</th>\n",
       "      <th>Gender_n</th>\n",
       "      <th>JobRole_n</th>\n",
       "      <th>MaritalStatus_n</th>\n",
       "      <th>OverTime_n</th>\n",
       "    </tr>\n",
       "  </thead>\n",
       "  <tbody>\n",
       "    <tr>\n",
       "      <th>0</th>\n",
       "      <td>30</td>\n",
       "      <td>2</td>\n",
       "      <td>3</td>\n",
       "      <td>3</td>\n",
       "      <td>3</td>\n",
       "      <td>4</td>\n",
       "      <td>2564</td>\n",
       "      <td>0</td>\n",
       "      <td>14</td>\n",
       "      <td>3</td>\n",
       "      <td>0</td>\n",
       "      <td>12</td>\n",
       "      <td>2</td>\n",
       "      <td>11</td>\n",
       "      <td>7</td>\n",
       "      <td>6</td>\n",
       "      <td>7</td>\n",
       "      <td>4</td>\n",
       "      <td>0</td>\n",
       "      <td>1</td>\n",
       "      <td>3</td>\n",
       "      <td>0</td>\n",
       "      <td>2</td>\n",
       "      <td>2</td>\n",
       "      <td>0</td>\n",
       "    </tr>\n",
       "    <tr>\n",
       "      <th>1</th>\n",
       "      <td>36</td>\n",
       "      <td>12</td>\n",
       "      <td>4</td>\n",
       "      <td>3</td>\n",
       "      <td>3</td>\n",
       "      <td>3</td>\n",
       "      <td>4663</td>\n",
       "      <td>9</td>\n",
       "      <td>12</td>\n",
       "      <td>3</td>\n",
       "      <td>2</td>\n",
       "      <td>7</td>\n",
       "      <td>2</td>\n",
       "      <td>3</td>\n",
       "      <td>2</td>\n",
       "      <td>1</td>\n",
       "      <td>1</td>\n",
       "      <td>2</td>\n",
       "      <td>2</td>\n",
       "      <td>1</td>\n",
       "      <td>1</td>\n",
       "      <td>0</td>\n",
       "      <td>4</td>\n",
       "      <td>1</td>\n",
       "      <td>1</td>\n",
       "    </tr>\n",
       "    <tr>\n",
       "      <th>2</th>\n",
       "      <td>55</td>\n",
       "      <td>2</td>\n",
       "      <td>1</td>\n",
       "      <td>3</td>\n",
       "      <td>3</td>\n",
       "      <td>4</td>\n",
       "      <td>5160</td>\n",
       "      <td>4</td>\n",
       "      <td>16</td>\n",
       "      <td>3</td>\n",
       "      <td>0</td>\n",
       "      <td>12</td>\n",
       "      <td>3</td>\n",
       "      <td>9</td>\n",
       "      <td>7</td>\n",
       "      <td>7</td>\n",
       "      <td>3</td>\n",
       "      <td>5</td>\n",
       "      <td>2</td>\n",
       "      <td>2</td>\n",
       "      <td>3</td>\n",
       "      <td>1</td>\n",
       "      <td>7</td>\n",
       "      <td>2</td>\n",
       "      <td>0</td>\n",
       "    </tr>\n",
       "    <tr>\n",
       "      <th>3</th>\n",
       "      <td>39</td>\n",
       "      <td>24</td>\n",
       "      <td>1</td>\n",
       "      <td>1</td>\n",
       "      <td>3</td>\n",
       "      <td>4</td>\n",
       "      <td>4108</td>\n",
       "      <td>7</td>\n",
       "      <td>13</td>\n",
       "      <td>3</td>\n",
       "      <td>0</td>\n",
       "      <td>18</td>\n",
       "      <td>2</td>\n",
       "      <td>7</td>\n",
       "      <td>7</td>\n",
       "      <td>1</td>\n",
       "      <td>7</td>\n",
       "      <td>4</td>\n",
       "      <td>2</td>\n",
       "      <td>1</td>\n",
       "      <td>1</td>\n",
       "      <td>1</td>\n",
       "      <td>6</td>\n",
       "      <td>2</td>\n",
       "      <td>0</td>\n",
       "    </tr>\n",
       "    <tr>\n",
       "      <th>4</th>\n",
       "      <td>37</td>\n",
       "      <td>3</td>\n",
       "      <td>3</td>\n",
       "      <td>3</td>\n",
       "      <td>3</td>\n",
       "      <td>3</td>\n",
       "      <td>9434</td>\n",
       "      <td>1</td>\n",
       "      <td>15</td>\n",
       "      <td>3</td>\n",
       "      <td>1</td>\n",
       "      <td>10</td>\n",
       "      <td>2</td>\n",
       "      <td>10</td>\n",
       "      <td>7</td>\n",
       "      <td>7</td>\n",
       "      <td>8</td>\n",
       "      <td>1</td>\n",
       "      <td>2</td>\n",
       "      <td>1</td>\n",
       "      <td>4</td>\n",
       "      <td>1</td>\n",
       "      <td>4</td>\n",
       "      <td>1</td>\n",
       "      <td>0</td>\n",
       "    </tr>\n",
       "  </tbody>\n",
       "</table>\n",
       "</div>"
      ],
      "text/plain": [
       "   Age  DistanceFromHome  Education  EnvironmentSatisfaction  JobInvolvement  \\\n",
       "0   30                 2          3                        3               3   \n",
       "1   36                12          4                        3               3   \n",
       "2   55                 2          1                        3               3   \n",
       "3   39                24          1                        1               3   \n",
       "4   37                 3          3                        3               3   \n",
       "\n",
       "   JobSatisfaction  MonthlyIncome  NumCompaniesWorked  PercentSalaryHike  \\\n",
       "0                4           2564                   0                 14   \n",
       "1                3           4663                   9                 12   \n",
       "2                4           5160                   4                 16   \n",
       "3                4           4108                   7                 13   \n",
       "4                3           9434                   1                 15   \n",
       "\n",
       "   PerformanceRating  StockOptionLevel  TotalWorkingYears  \\\n",
       "0                  3                 0                 12   \n",
       "1                  3                 2                  7   \n",
       "2                  3                 0                 12   \n",
       "3                  3                 0                 18   \n",
       "4                  3                 1                 10   \n",
       "\n",
       "   TrainingTimesLastYear  YearsAtCompany  YearsInCurrentRole  \\\n",
       "0                      2              11                   7   \n",
       "1                      2               3                   2   \n",
       "2                      3               9                   7   \n",
       "3                      2               7                   7   \n",
       "4                      2              10                   7   \n",
       "\n",
       "   YearsSinceLastPromotion  YearsWithCurrManager  CommunicationSkill  \\\n",
       "0                        6                     7                   4   \n",
       "1                        1                     1                   2   \n",
       "2                        7                     3                   5   \n",
       "3                        1                     7                   4   \n",
       "4                        7                     8                   1   \n",
       "\n",
       "   BusinessTravel_n  Department_n  EducationField_n  Gender_n  JobRole_n  \\\n",
       "0                 0             1                 3         0          2   \n",
       "1                 2             1                 1         0          4   \n",
       "2                 2             2                 3         1          7   \n",
       "3                 2             1                 1         1          6   \n",
       "4                 2             1                 4         1          4   \n",
       "\n",
       "   MaritalStatus_n  OverTime_n  \n",
       "0                2           0  \n",
       "1                1           1  \n",
       "2                2           0  \n",
       "3                2           0  \n",
       "4                1           0  "
      ]
     },
     "execution_count": 18,
     "metadata": {},
     "output_type": "execute_result"
    }
   ],
   "source": [
    "data.head()"
   ]
  },
  {
   "cell_type": "code",
   "execution_count": 19,
   "metadata": {
    "execution": {
     "iopub.execute_input": "2020-09-19T16:57:56.543424Z",
     "iopub.status.busy": "2020-09-19T16:57:56.542607Z",
     "iopub.status.idle": "2020-09-19T16:57:56.549673Z",
     "shell.execute_reply": "2020-09-19T16:57:56.549018Z"
    },
    "papermill": {
     "duration": 0.055779,
     "end_time": "2020-09-19T16:57:56.549804",
     "exception": false,
     "start_time": "2020-09-19T16:57:56.494025",
     "status": "completed"
    },
    "tags": []
   },
   "outputs": [
    {
     "data": {
      "text/plain": [
       "(1628, 25)"
      ]
     },
     "execution_count": 19,
     "metadata": {},
     "output_type": "execute_result"
    }
   ],
   "source": [
    "data.shape"
   ]
  },
  {
   "cell_type": "markdown",
   "metadata": {
    "papermill": {
     "duration": 0.057599,
     "end_time": "2020-09-19T16:57:56.655435",
     "exception": false,
     "start_time": "2020-09-19T16:57:56.597836",
     "status": "completed"
    },
    "tags": []
   },
   "source": [
    "#   \n",
    "\n",
    "\n",
    "\n",
    "\n",
    "\n",
    "## outlier detection"
   ]
  },
  {
   "cell_type": "code",
   "execution_count": 20,
   "metadata": {
    "execution": {
     "iopub.execute_input": "2020-09-19T16:57:56.750943Z",
     "iopub.status.busy": "2020-09-19T16:57:56.750263Z",
     "iopub.status.idle": "2020-09-19T16:57:57.070701Z",
     "shell.execute_reply": "2020-09-19T16:57:57.070120Z"
    },
    "papermill": {
     "duration": 0.370195,
     "end_time": "2020-09-19T16:57:57.070927",
     "exception": false,
     "start_time": "2020-09-19T16:57:56.700732",
     "status": "completed"
    },
    "tags": []
   },
   "outputs": [
    {
     "data": {
      "text/plain": [
       "<matplotlib.axes._subplots.AxesSubplot at 0x7f7804a01c10>"
      ]
     },
     "execution_count": 20,
     "metadata": {},
     "output_type": "execute_result"
    },
    {
     "data": {
      "image/png": "[encoded data removed]",
      "text/plain": [
       "<Figure size 720x288 with 1 Axes>"
      ]
     },
     "metadata": {
      "needs_background": "light"
     },
     "output_type": "display_data"
    },
    {
     "data": {
      "text/plain": [
       "<Figure size 432x288 with 0 Axes>"
      ]
     },
     "metadata": {},
     "output_type": "display_data"
    },
    {
     "data": {
      "image/png": "[encoded data removed]",
      "text/plain": [
       "<Figure size 720x288 with 1 Axes>"
      ]
     },
     "metadata": {
      "needs_background": "light"
     },
     "output_type": "display_data"
    }
   ],
   "source": [
    "plt.subplots(figsize=(10,4))\n",
    "sns.boxplot(x=data.MonthlyIncome)\n",
    "plt.figure()\n",
    "plt.subplots(figsize=(10,4))\n",
    "sns.boxplot(x=data2.MonthlyIncome)"
   ]
  },
  {
   "cell_type": "markdown",
   "metadata": {
    "papermill": {
     "duration": 0.04912,
     "end_time": "2020-09-19T16:57:57.169589",
     "exception": false,
     "start_time": "2020-09-19T16:57:57.120469",
     "status": "completed"
    },
    "tags": []
   },
   "source": [
    "both train and test shows same distribution"
   ]
  },
  {
   "cell_type": "code",
   "execution_count": 21,
   "metadata": {
    "execution": {
     "iopub.execute_input": "2020-09-19T16:57:57.280926Z",
     "iopub.status.busy": "2020-09-19T16:57:57.280203Z",
     "iopub.status.idle": "2020-09-19T16:57:57.823458Z",
     "shell.execute_reply": "2020-09-19T16:57:57.822587Z"
    },
    "papermill": {
     "duration": 0.606465,
     "end_time": "2020-09-19T16:57:57.823592",
     "exception": false,
     "start_time": "2020-09-19T16:57:57.217127",
     "status": "completed"
    },
    "tags": []
   },
   "outputs": [
    {
     "data": {
      "text/plain": [
       "<matplotlib.axes._subplots.AxesSubplot at 0x7f78048c2e90>"
      ]
     },
     "execution_count": 21,
     "metadata": {},
     "output_type": "execute_result"
    },
    {
     "data": {
      "image/png": "[encoded data removed]",
      "text/plain": [
       "<Figure size 432x288 with 1 Axes>"
      ]
     },
     "metadata": {
      "needs_background": "light"
     },
     "output_type": "display_data"
    }
   ],
   "source": [
    "sns.distplot(data.Age,bins=100)\n",
    "sns.distplot(data2.Age,bins=100)"
   ]
  },
  {
   "cell_type": "code",
   "execution_count": 22,
   "metadata": {
    "execution": {
     "iopub.execute_input": "2020-09-19T16:57:57.940032Z",
     "iopub.status.busy": "2020-09-19T16:57:57.938945Z",
     "iopub.status.idle": "2020-09-19T16:57:58.544041Z",
     "shell.execute_reply": "2020-09-19T16:57:58.544677Z"
    },
    "papermill": {
     "duration": 0.669127,
     "end_time": "2020-09-19T16:57:58.544823",
     "exception": false,
     "start_time": "2020-09-19T16:57:57.875696",
     "status": "completed"
    },
    "tags": []
   },
   "outputs": [
    {
     "data": {
      "text/plain": [
       "<matplotlib.axes._subplots.AxesSubplot at 0x7f780463bed0>"
      ]
     },
     "execution_count": 22,
     "metadata": {},
     "output_type": "execute_result"
    },
    {
     "data": {
      "image/png": "[encoded data removed]",
      "text/plain": [
       "<Figure size 432x288 with 1 Axes>"
      ]
     },
     "metadata": {
      "needs_background": "light"
     },
     "output_type": "display_data"
    }
   ],
   "source": [
    "sns.distplot(data.MonthlyIncome,bins=100)\n",
    "sns.distplot(data2.MonthlyIncome,bins=100)"
   ]
  },
  {
   "cell_type": "code",
   "execution_count": 23,
   "metadata": {
    "execution": {
     "iopub.execute_input": "2020-09-19T16:57:58.651850Z",
     "iopub.status.busy": "2020-09-19T16:57:58.651063Z",
     "iopub.status.idle": "2020-09-19T16:57:59.048329Z",
     "shell.execute_reply": "2020-09-19T16:57:59.047812Z"
    },
    "papermill": {
     "duration": 0.452298,
     "end_time": "2020-09-19T16:57:59.048440",
     "exception": false,
     "start_time": "2020-09-19T16:57:58.596142",
     "status": "completed"
    },
    "tags": []
   },
   "outputs": [
    {
     "data": {
      "text/plain": [
       "<matplotlib.axes._subplots.AxesSubplot at 0x7f780443e850>"
      ]
     },
     "execution_count": 23,
     "metadata": {},
     "output_type": "execute_result"
    },
    {
     "data": {
      "image/png": "[encoded data removed]",
      "text/plain": [
       "<Figure size 432x288 with 1 Axes>"
      ]
     },
     "metadata": {
      "needs_background": "light"
     },
     "output_type": "display_data"
    }
   ],
   "source": [
    "sns.distplot(data.NumCompaniesWorked,bins=50)\n",
    "sns.distplot(data2.NumCompaniesWorked,bins=50)"
   ]
  },
  {
   "cell_type": "markdown",
   "metadata": {
    "papermill": {
     "duration": 0.05115,
     "end_time": "2020-09-19T16:57:59.151008",
     "exception": false,
     "start_time": "2020-09-19T16:57:59.099858",
     "status": "completed"
    },
    "tags": []
   },
   "source": [
    "#   \n",
    "\n",
    "\n",
    "\n",
    "\n",
    "\n",
    "\n",
    "## Select Important Features"
   ]
  },
  {
   "cell_type": "markdown",
   "metadata": {
    "papermill": {
     "duration": 0.051223,
     "end_time": "2020-09-19T16:57:59.253756",
     "exception": false,
     "start_time": "2020-09-19T16:57:59.202533",
     "status": "completed"
    },
    "tags": []
   },
   "source": [
    "### we perform feature selection by two method\n",
    "#### 1) using extra tree classifier\n",
    "#### 2) by observing coreelation between features"
   ]
  },
  {
   "cell_type": "markdown",
   "metadata": {
    "papermill": {
     "duration": 0.050993,
     "end_time": "2020-09-19T16:57:59.356003",
     "exception": false,
     "start_time": "2020-09-19T16:57:59.305010",
     "status": "completed"
    },
    "tags": []
   },
   "source": [
    "we find corelation tequnique are more accurate"
   ]
  },
  {
   "cell_type": "markdown",
   "metadata": {
    "papermill": {
     "duration": 0.051997,
     "end_time": "2020-09-19T16:57:59.468040",
     "exception": false,
     "start_time": "2020-09-19T16:57:59.416043",
     "status": "completed"
    },
    "tags": []
   },
   "source": [
    "### 1) using extra tree classifier"
   ]
  },
  {
   "cell_type": "code",
   "execution_count": 24,
   "metadata": {
    "execution": {
     "iopub.execute_input": "2020-09-19T16:57:59.577989Z",
     "iopub.status.busy": "2020-09-19T16:57:59.577270Z",
     "iopub.status.idle": "2020-09-19T16:58:00.133696Z",
     "shell.execute_reply": "2020-09-19T16:58:00.133026Z"
    },
    "papermill": {
     "duration": 0.613913,
     "end_time": "2020-09-19T16:58:00.133870",
     "exception": false,
     "start_time": "2020-09-19T16:57:59.519957",
     "status": "completed"
    },
    "tags": []
   },
   "outputs": [
    {
     "data": {
      "text/plain": [
       "array([0.0501454 , 0.04060202, 0.03094282, 0.04165327, 0.03469868,\n",
       "       0.04492827, 0.05421599, 0.03096392, 0.03371671, 0.01558551,\n",
       "       0.03981534, 0.04889626, 0.03484674, 0.04270712, 0.04338908,\n",
       "       0.03168181, 0.04056541, 0.03919071, 0.02937665, 0.0299146 ,\n",
       "       0.03468044, 0.02881164, 0.04365433, 0.04417227, 0.09084502])"
      ]
     },
     "execution_count": 24,
     "metadata": {},
     "output_type": "execute_result"
    }
   ],
   "source": [
    "from sklearn.ensemble import ExtraTreesClassifier\n",
    "import matplotlib.pyplot as plt\n",
    "feature = ExtraTreesClassifier()\n",
    "feature.fit(data,data_y)\n",
    "\n",
    "score = feature.feature_importances_\n",
    "score"
   ]
  },
  {
   "cell_type": "code",
   "execution_count": 25,
   "metadata": {
    "execution": {
     "iopub.execute_input": "2020-09-19T16:58:00.243425Z",
     "iopub.status.busy": "2020-09-19T16:58:00.242400Z",
     "iopub.status.idle": "2020-09-19T16:58:00.620008Z",
     "shell.execute_reply": "2020-09-19T16:58:00.620944Z"
    },
    "papermill": {
     "duration": 0.434537,
     "end_time": "2020-09-19T16:58:00.621164",
     "exception": false,
     "start_time": "2020-09-19T16:58:00.186627",
     "status": "completed"
    },
    "tags": []
   },
   "outputs": [
    {
     "data": {
      "image/png": "[encoded data removed]",
      "text/plain": [
       "<Figure size 720x1440 with 1 Axes>"
      ]
     },
     "metadata": {
      "needs_background": "light"
     },
     "output_type": "display_data"
    }
   ],
   "source": [
    "feat_score = pd.Series(score, index=data.columns).sort_values(ascending = False)\n",
    "\n",
    "plt.figure(figsize=(10,20))\n",
    "feat_score.plot(kind='barh')\n",
    "plt.show()"
   ]
  },
  {
   "cell_type": "code",
   "execution_count": 26,
   "metadata": {
    "execution": {
     "iopub.execute_input": "2020-09-19T16:58:00.744885Z",
     "iopub.status.busy": "2020-09-19T16:58:00.742683Z",
     "iopub.status.idle": "2020-09-19T16:58:00.747284Z",
     "shell.execute_reply": "2020-09-19T16:58:00.746768Z"
    },
    "papermill": {
     "duration": 0.066303,
     "end_time": "2020-09-19T16:58:00.747388",
     "exception": false,
     "start_time": "2020-09-19T16:58:00.681085",
     "status": "completed"
    },
    "tags": []
   },
   "outputs": [
    {
     "data": {
      "text/plain": [
       "['OverTime_n',\n",
       " 'MonthlyIncome',\n",
       " 'Age',\n",
       " 'TotalWorkingYears',\n",
       " 'JobSatisfaction',\n",
       " 'MaritalStatus_n',\n",
       " 'JobRole_n',\n",
       " 'YearsInCurrentRole',\n",
       " 'YearsAtCompany',\n",
       " 'EnvironmentSatisfaction',\n",
       " 'DistanceFromHome',\n",
       " 'YearsWithCurrManager',\n",
       " 'StockOptionLevel',\n",
       " 'CommunicationSkill',\n",
       " 'TrainingTimesLastYear',\n",
       " 'JobInvolvement',\n",
       " 'EducationField_n',\n",
       " 'PercentSalaryHike',\n",
       " 'YearsSinceLastPromotion',\n",
       " 'NumCompaniesWorked',\n",
       " 'Education',\n",
       " 'Department_n',\n",
       " 'BusinessTravel_n',\n",
       " 'Gender_n',\n",
       " 'PerformanceRating']"
      ]
     },
     "execution_count": 26,
     "metadata": {},
     "output_type": "execute_result"
    }
   ],
   "source": [
    "top_feature = list(feat_score.index[0:29])\n",
    "top_feature"
   ]
  },
  {
   "cell_type": "code",
   "execution_count": 27,
   "metadata": {
    "execution": {
     "iopub.execute_input": "2020-09-19T16:58:00.865701Z",
     "iopub.status.busy": "2020-09-19T16:58:00.864589Z",
     "iopub.status.idle": "2020-09-19T16:58:00.869923Z",
     "shell.execute_reply": "2020-09-19T16:58:00.869360Z"
    },
    "papermill": {
     "duration": 0.067058,
     "end_time": "2020-09-19T16:58:00.870034",
     "exception": false,
     "start_time": "2020-09-19T16:58:00.802976",
     "status": "completed"
    },
    "tags": []
   },
   "outputs": [
    {
     "data": {
      "text/plain": [
       "OverTime_n                 0.090845\n",
       "MonthlyIncome              0.054216\n",
       "Age                        0.050145\n",
       "TotalWorkingYears          0.048896\n",
       "JobSatisfaction            0.044928\n",
       "MaritalStatus_n            0.044172\n",
       "JobRole_n                  0.043654\n",
       "YearsInCurrentRole         0.043389\n",
       "YearsAtCompany             0.042707\n",
       "EnvironmentSatisfaction    0.041653\n",
       "DistanceFromHome           0.040602\n",
       "YearsWithCurrManager       0.040565\n",
       "StockOptionLevel           0.039815\n",
       "CommunicationSkill         0.039191\n",
       "TrainingTimesLastYear      0.034847\n",
       "JobInvolvement             0.034699\n",
       "EducationField_n           0.034680\n",
       "PercentSalaryHike          0.033717\n",
       "YearsSinceLastPromotion    0.031682\n",
       "NumCompaniesWorked         0.030964\n",
       "Education                  0.030943\n",
       "Department_n               0.029915\n",
       "BusinessTravel_n           0.029377\n",
       "Gender_n                   0.028812\n",
       "PerformanceRating          0.015586\n",
       "dtype: float64"
      ]
     },
     "execution_count": 27,
     "metadata": {},
     "output_type": "execute_result"
    }
   ],
   "source": [
    "feat_score"
   ]
  },
  {
   "cell_type": "code",
   "execution_count": 28,
   "metadata": {
    "execution": {
     "iopub.execute_input": "2020-09-19T16:58:00.990484Z",
     "iopub.status.busy": "2020-09-19T16:58:00.989466Z",
     "iopub.status.idle": "2020-09-19T16:58:00.993761Z",
     "shell.execute_reply": "2020-09-19T16:58:00.993042Z"
    },
    "papermill": {
     "duration": 0.068088,
     "end_time": "2020-09-19T16:58:00.993889",
     "exception": false,
     "start_time": "2020-09-19T16:58:00.925801",
     "status": "completed"
    },
    "tags": []
   },
   "outputs": [
    {
     "name": "stdout",
     "output_type": "stream",
     "text": [
      "(1628, 25)\n",
      "(470, 25)\n"
     ]
    }
   ],
   "source": [
    "data_imp = data[top_feature]\n",
    "data2_imp = data2[top_feature]\n",
    "\n",
    "print(data_imp.shape)\n",
    "print(data2_imp.shape)"
   ]
  },
  {
   "cell_type": "markdown",
   "metadata": {
    "papermill": {
     "duration": 0.055074,
     "end_time": "2020-09-19T16:58:01.105677",
     "exception": false,
     "start_time": "2020-09-19T16:58:01.050603",
     "status": "completed"
    },
    "tags": []
   },
   "source": [
    "### 2) using correlation between feature"
   ]
  },
  {
   "cell_type": "code",
   "execution_count": 29,
   "metadata": {
    "execution": {
     "iopub.execute_input": "2020-09-19T16:58:01.225244Z",
     "iopub.status.busy": "2020-09-19T16:58:01.224079Z",
     "iopub.status.idle": "2020-09-19T16:58:01.240573Z",
     "shell.execute_reply": "2020-09-19T16:58:01.239998Z"
    },
    "papermill": {
     "duration": 0.079226,
     "end_time": "2020-09-19T16:58:01.240707",
     "exception": false,
     "start_time": "2020-09-19T16:58:01.161481",
     "status": "completed"
    },
    "tags": []
   },
   "outputs": [
    {
     "name": "stdout",
     "output_type": "stream",
     "text": [
      "['Age', 'DistanceFromHome', 'Education', 'EnvironmentSatisfaction', 'JobInvolvement', 'JobSatisfaction', 'MonthlyIncome', 'NumCompaniesWorked', 'PercentSalaryHike', 'PerformanceRating', 'StockOptionLevel', 'TotalWorkingYears', 'TrainingTimesLastYear', 'YearsAtCompany', 'YearsInCurrentRole', 'YearsSinceLastPromotion', 'YearsWithCurrManager', 'CommunicationSkill', 'BusinessTravel_n', 'Department_n', 'EducationField_n', 'Gender_n', 'JobRole_n', 'MaritalStatus_n', 'OverTime_n']\n"
     ]
    }
   ],
   "source": [
    "top_corr_feat = []\n",
    "for i in data.columns:\n",
    "    if(abs(data_y.corr(data[i]))>=0.01):\n",
    "        top_corr_feat.append(i)\n",
    "        \n",
    "print(top_corr_feat)"
   ]
  },
  {
   "cell_type": "code",
   "execution_count": 30,
   "metadata": {
    "execution": {
     "iopub.execute_input": "2020-09-19T16:58:01.356334Z",
     "iopub.status.busy": "2020-09-19T16:58:01.355316Z",
     "iopub.status.idle": "2020-09-19T16:58:01.364765Z",
     "shell.execute_reply": "2020-09-19T16:58:01.365315Z"
    },
    "papermill": {
     "duration": 0.068756,
     "end_time": "2020-09-19T16:58:01.365469",
     "exception": false,
     "start_time": "2020-09-19T16:58:01.296713",
     "status": "completed"
    },
    "tags": []
   },
   "outputs": [
    {
     "name": "stdout",
     "output_type": "stream",
     "text": [
      "(1628, 25)\n",
      "(470, 25)\n"
     ]
    }
   ],
   "source": [
    "data_imp = data[top_corr_feat]\n",
    "data2_imp = data2[top_corr_feat]\n",
    "\n",
    "print(data_imp.shape)\n",
    "print(data2_imp.shape)"
   ]
  },
  {
   "cell_type": "markdown",
   "metadata": {
    "papermill": {
     "duration": 0.055932,
     "end_time": "2020-09-19T16:58:01.477718",
     "exception": false,
     "start_time": "2020-09-19T16:58:01.421786",
     "status": "completed"
    },
    "tags": []
   },
   "source": [
    "#    \n",
    "\n",
    "\n",
    "\n",
    "\n",
    "\n",
    "## test-train split"
   ]
  },
  {
   "cell_type": "code",
   "execution_count": 31,
   "metadata": {
    "execution": {
     "iopub.execute_input": "2020-09-19T16:58:01.594362Z",
     "iopub.status.busy": "2020-09-19T16:58:01.593248Z",
     "iopub.status.idle": "2020-09-19T16:58:01.603584Z",
     "shell.execute_reply": "2020-09-19T16:58:01.602779Z"
    },
    "papermill": {
     "duration": 0.069858,
     "end_time": "2020-09-19T16:58:01.603737",
     "exception": false,
     "start_time": "2020-09-19T16:58:01.533879",
     "status": "completed"
    },
    "tags": []
   },
   "outputs": [],
   "source": [
    "# train test split\n",
    "\n",
    "from sklearn.model_selection import train_test_split as tts\n",
    "\n",
    "x_train,x_test,y_train,y_test = tts(data_imp,data_y,test_size=0.3,random_state=4)"
   ]
  },
  {
   "cell_type": "code",
   "execution_count": 32,
   "metadata": {
    "execution": {
     "iopub.execute_input": "2020-09-19T16:58:01.724013Z",
     "iopub.status.busy": "2020-09-19T16:58:01.722952Z",
     "iopub.status.idle": "2020-09-19T16:58:01.728565Z",
     "shell.execute_reply": "2020-09-19T16:58:01.729054Z"
    },
    "papermill": {
     "duration": 0.066929,
     "end_time": "2020-09-19T16:58:01.729204",
     "exception": false,
     "start_time": "2020-09-19T16:58:01.662275",
     "status": "completed"
    },
    "tags": []
   },
   "outputs": [
    {
     "data": {
      "text/plain": [
       "(1139, 25)"
      ]
     },
     "execution_count": 32,
     "metadata": {},
     "output_type": "execute_result"
    }
   ],
   "source": [
    "x_train.shape"
   ]
  },
  {
   "cell_type": "code",
   "execution_count": 33,
   "metadata": {
    "execution": {
     "iopub.execute_input": "2020-09-19T16:58:01.847924Z",
     "iopub.status.busy": "2020-09-19T16:58:01.846898Z",
     "iopub.status.idle": "2020-09-19T16:58:01.852450Z",
     "shell.execute_reply": "2020-09-19T16:58:01.852960Z"
    },
    "papermill": {
     "duration": 0.067211,
     "end_time": "2020-09-19T16:58:01.853119",
     "exception": false,
     "start_time": "2020-09-19T16:58:01.785908",
     "status": "completed"
    },
    "tags": []
   },
   "outputs": [
    {
     "data": {
      "text/plain": [
       "(489, 25)"
      ]
     },
     "execution_count": 33,
     "metadata": {},
     "output_type": "execute_result"
    }
   ],
   "source": [
    "x_test.shape"
   ]
  },
  {
   "cell_type": "markdown",
   "metadata": {
    "papermill": {
     "duration": 0.107622,
     "end_time": "2020-09-19T16:58:02.019673",
     "exception": false,
     "start_time": "2020-09-19T16:58:01.912051",
     "status": "completed"
    },
    "tags": []
   },
   "source": [
    "#  \n",
    "\n",
    "\n",
    "\n",
    "\n",
    "\n",
    "## Random Forest Classification"
   ]
  },
  {
   "cell_type": "code",
   "execution_count": 34,
   "metadata": {
    "execution": {
     "iopub.execute_input": "2020-09-19T16:58:02.141889Z",
     "iopub.status.busy": "2020-09-19T16:58:02.140983Z",
     "iopub.status.idle": "2020-09-19T16:58:02.143204Z",
     "shell.execute_reply": "2020-09-19T16:58:02.142567Z"
    },
    "papermill": {
     "duration": 0.066245,
     "end_time": "2020-09-19T16:58:02.143320",
     "exception": false,
     "start_time": "2020-09-19T16:58:02.077075",
     "status": "completed"
    },
    "tags": []
   },
   "outputs": [],
   "source": [
    "from sklearn.ensemble import RandomForestClassifier as RFS"
   ]
  },
  {
   "cell_type": "code",
   "execution_count": 35,
   "metadata": {
    "execution": {
     "iopub.execute_input": "2020-09-19T16:58:02.289739Z",
     "iopub.status.busy": "2020-09-19T16:58:02.288625Z",
     "iopub.status.idle": "2020-09-19T16:58:03.205518Z",
     "shell.execute_reply": "2020-09-19T16:58:03.204804Z"
    },
    "papermill": {
     "duration": 1.003602,
     "end_time": "2020-09-19T16:58:03.205660",
     "exception": false,
     "start_time": "2020-09-19T16:58:02.202058",
     "status": "completed"
    },
    "tags": []
   },
   "outputs": [
    {
     "data": {
      "text/plain": [
       "RandomForestClassifier(max_depth=20, n_estimators=250, random_state=24)"
      ]
     },
     "execution_count": 35,
     "metadata": {},
     "output_type": "execute_result"
    }
   ],
   "source": [
    "model = RFS(random_state=24,n_estimators=250,max_depth=20)\n",
    "\n",
    "#model.fit(x_train,y_train)\n",
    "\n",
    "model.fit(data_imp,data_y)"
   ]
  },
  {
   "cell_type": "code",
   "execution_count": 36,
   "metadata": {
    "execution": {
     "iopub.execute_input": "2020-09-19T16:58:03.329669Z",
     "iopub.status.busy": "2020-09-19T16:58:03.328993Z",
     "iopub.status.idle": "2020-09-19T16:58:03.466737Z",
     "shell.execute_reply": "2020-09-19T16:58:03.466150Z"
    },
    "papermill": {
     "duration": 0.199133,
     "end_time": "2020-09-19T16:58:03.466864",
     "exception": false,
     "start_time": "2020-09-19T16:58:03.267731",
     "status": "completed"
    },
    "tags": []
   },
   "outputs": [],
   "source": [
    "y_predict_1 = model.predict(x_test)\n",
    "y_predict_2 = model.predict(data_imp)"
   ]
  },
  {
   "cell_type": "code",
   "execution_count": 37,
   "metadata": {
    "execution": {
     "iopub.execute_input": "2020-09-19T16:58:03.591421Z",
     "iopub.status.busy": "2020-09-19T16:58:03.590717Z",
     "iopub.status.idle": "2020-09-19T16:58:03.599067Z",
     "shell.execute_reply": "2020-09-19T16:58:03.598318Z"
    },
    "papermill": {
     "duration": 0.073564,
     "end_time": "2020-09-19T16:58:03.599187",
     "exception": false,
     "start_time": "2020-09-19T16:58:03.525623",
     "status": "completed"
    },
    "tags": []
   },
   "outputs": [
    {
     "data": {
      "text/plain": [
       "1.0"
      ]
     },
     "execution_count": 37,
     "metadata": {},
     "output_type": "execute_result"
    }
   ],
   "source": [
    "from sklearn.metrics import roc_auc_score\n",
    "\n",
    "roc_auc_score(y_test,y_predict_1)"
   ]
  },
  {
   "cell_type": "code",
   "execution_count": 38,
   "metadata": {
    "execution": {
     "iopub.execute_input": "2020-09-19T16:58:03.724223Z",
     "iopub.status.busy": "2020-09-19T16:58:03.723489Z",
     "iopub.status.idle": "2020-09-19T16:58:03.730837Z",
     "shell.execute_reply": "2020-09-19T16:58:03.730287Z"
    },
    "papermill": {
     "duration": 0.070786,
     "end_time": "2020-09-19T16:58:03.730971",
     "exception": false,
     "start_time": "2020-09-19T16:58:03.660185",
     "status": "completed"
    },
    "tags": []
   },
   "outputs": [
    {
     "data": {
      "text/plain": [
       "1.0"
      ]
     },
     "execution_count": 38,
     "metadata": {},
     "output_type": "execute_result"
    }
   ],
   "source": [
    "roc_auc_score(data_y,y_predict_2)"
   ]
  },
  {
   "cell_type": "code",
   "execution_count": 39,
   "metadata": {
    "execution": {
     "iopub.execute_input": "2020-09-19T16:58:03.859931Z",
     "iopub.status.busy": "2020-09-19T16:58:03.859164Z",
     "iopub.status.idle": "2020-09-19T16:58:03.948182Z",
     "shell.execute_reply": "2020-09-19T16:58:03.948737Z"
    },
    "papermill": {
     "duration": 0.157657,
     "end_time": "2020-09-19T16:58:03.948898",
     "exception": false,
     "start_time": "2020-09-19T16:58:03.791241",
     "status": "completed"
    },
    "tags": []
   },
   "outputs": [
    {
     "data": {
      "text/plain": [
       "array([0, 0, 0, 0, 0, 0, 1, 0, 0, 0, 0, 0, 0, 0, 0, 0, 0, 0, 0, 0, 0, 1,\n",
       "       0, 0, 0, 0, 0, 0, 1, 0, 0, 0, 0, 0, 0, 0, 0, 0, 0, 0, 1, 0, 0, 0,\n",
       "       0, 0, 0, 0, 0, 0, 0, 0, 0, 0, 0, 0, 0, 0, 0, 0, 0, 0, 0, 0, 0, 0,\n",
       "       0, 0, 0, 0, 0, 0, 0, 0, 0, 0, 0, 0, 0, 0, 0, 0, 0, 0, 0, 0, 0, 0,\n",
       "       0, 0, 0, 0, 0, 0, 1, 0, 0, 0, 0, 0, 0, 0, 0, 0, 0, 0, 0, 0, 0, 0,\n",
       "       0, 0, 0, 0, 0, 0, 0, 0, 0, 0, 0, 0, 0, 0, 0, 0, 0, 0, 0, 0, 0, 0,\n",
       "       0, 0, 0, 0, 1, 0, 0, 0, 0, 0, 0, 0, 0, 0, 0, 0, 0, 0, 0, 0, 0, 1,\n",
       "       0, 0, 0, 0, 0, 0, 0, 0, 0, 0, 0, 0, 0, 0, 0, 0, 0, 0, 0, 0, 0, 0,\n",
       "       0, 0, 0, 1, 0, 0, 1, 0, 1, 0, 0, 0, 0, 0, 0, 0, 0, 0, 0, 0, 0, 0,\n",
       "       0, 0, 0, 0, 0, 0, 0, 0, 1, 0, 0, 0, 0, 0, 0, 0, 0, 1, 0, 0, 0, 0,\n",
       "       0, 0, 0, 0, 0, 0, 0, 0, 0, 0, 1, 0, 0, 0, 0, 0, 0, 0, 1, 0, 0, 0,\n",
       "       0, 1, 0, 0, 0, 0, 0, 0, 0, 0, 0, 0, 0, 0, 0, 0, 0, 0, 0, 0, 0, 0,\n",
       "       0, 0, 0, 0, 0, 0, 0, 0, 1, 0, 0, 0, 0, 0, 0, 0, 0, 0, 0, 0, 0, 1,\n",
       "       0, 0, 0, 0, 0, 0, 0, 0, 0, 0, 0, 0, 1, 0, 0, 0, 0, 1, 0, 0, 0, 0,\n",
       "       0, 0, 0, 0, 0, 0, 0, 0, 0, 0, 0, 0, 0, 0, 0, 0, 1, 0, 1, 0, 0, 0,\n",
       "       0, 0, 0, 0, 0, 0, 0, 0, 0, 0, 0, 1, 0, 0, 0, 0, 0, 0, 0, 0, 0, 0,\n",
       "       0, 0, 0, 0, 0, 0, 0, 0, 0, 0, 0, 0, 0, 0, 0, 0, 0, 0, 0, 0, 0, 1,\n",
       "       0, 0, 0, 0, 0, 0, 0, 0, 0, 0, 0, 0, 1, 0, 0, 0, 0, 0, 0, 0, 0, 0,\n",
       "       0, 0, 0, 0, 0, 0, 0, 0, 0, 0, 0, 0, 0, 0, 0, 0, 0, 0, 0, 0, 1, 0,\n",
       "       0, 0, 0, 0, 0, 0, 0, 0, 0, 0, 0, 0, 0, 0, 0, 0, 0, 0, 0, 0, 0, 0,\n",
       "       0, 0, 0, 0, 0, 0, 0, 0, 0, 0, 0, 0, 1, 0, 0, 0, 0, 0, 0, 0, 0, 0,\n",
       "       0, 0, 0, 0, 1, 0, 0, 0])"
      ]
     },
     "execution_count": 39,
     "metadata": {},
     "output_type": "execute_result"
    }
   ],
   "source": [
    "y_prob = model.predict_proba(data2_imp)\n",
    "y_prob = list(y_prob[:,1])\n",
    "data2_predict = model.predict(data2_imp)\n",
    "data2_predict"
   ]
  },
  {
   "cell_type": "code",
   "execution_count": 40,
   "metadata": {
    "execution": {
     "iopub.execute_input": "2020-09-19T16:58:04.076243Z",
     "iopub.status.busy": "2020-09-19T16:58:04.075521Z",
     "iopub.status.idle": "2020-09-19T16:58:04.079149Z",
     "shell.execute_reply": "2020-09-19T16:58:04.078491Z"
    },
    "papermill": {
     "duration": 0.068269,
     "end_time": "2020-09-19T16:58:04.079261",
     "exception": false,
     "start_time": "2020-09-19T16:58:04.010992",
     "status": "completed"
    },
    "tags": []
   },
   "outputs": [],
   "source": [
    "Id = np.arange(1,len(y_prob)+1)\n",
    "\n",
    "Id = list(Id)"
   ]
  },
  {
   "cell_type": "code",
   "execution_count": 41,
   "metadata": {
    "execution": {
     "iopub.execute_input": "2020-09-19T16:58:04.204896Z",
     "iopub.status.busy": "2020-09-19T16:58:04.204203Z",
     "iopub.status.idle": "2020-09-19T16:58:04.220443Z",
     "shell.execute_reply": "2020-09-19T16:58:04.219770Z"
    },
    "papermill": {
     "duration": 0.081277,
     "end_time": "2020-09-19T16:58:04.220555",
     "exception": false,
     "start_time": "2020-09-19T16:58:04.139278",
     "status": "completed"
    },
    "tags": []
   },
   "outputs": [
    {
     "data": {
      "text/html": [
       "<div>\n",
       "<style scoped>\n",
       "    .dataframe tbody tr th:only-of-type {\n",
       "        vertical-align: middle;\n",
       "    }\n",
       "\n",
       "    .dataframe tbody tr th {\n",
       "        vertical-align: top;\n",
       "    }\n",
       "\n",
       "    .dataframe thead th {\n",
       "        text-align: right;\n",
       "    }\n",
       "</style>\n",
       "<table border=\"1\" class=\"dataframe\">\n",
       "  <thead>\n",
       "    <tr style=\"text-align: right;\">\n",
       "      <th></th>\n",
       "      <th>Id</th>\n",
       "      <th>Attrition</th>\n",
       "    </tr>\n",
       "  </thead>\n",
       "  <tbody>\n",
       "    <tr>\n",
       "      <th>0</th>\n",
       "      <td>1</td>\n",
       "      <td>0.072</td>\n",
       "    </tr>\n",
       "    <tr>\n",
       "      <th>1</th>\n",
       "      <td>2</td>\n",
       "      <td>0.064</td>\n",
       "    </tr>\n",
       "    <tr>\n",
       "      <th>2</th>\n",
       "      <td>3</td>\n",
       "      <td>0.092</td>\n",
       "    </tr>\n",
       "    <tr>\n",
       "      <th>3</th>\n",
       "      <td>4</td>\n",
       "      <td>0.164</td>\n",
       "    </tr>\n",
       "    <tr>\n",
       "      <th>4</th>\n",
       "      <td>5</td>\n",
       "      <td>0.052</td>\n",
       "    </tr>\n",
       "    <tr>\n",
       "      <th>...</th>\n",
       "      <td>...</td>\n",
       "      <td>...</td>\n",
       "    </tr>\n",
       "    <tr>\n",
       "      <th>465</th>\n",
       "      <td>466</td>\n",
       "      <td>0.448</td>\n",
       "    </tr>\n",
       "    <tr>\n",
       "      <th>466</th>\n",
       "      <td>467</td>\n",
       "      <td>0.812</td>\n",
       "    </tr>\n",
       "    <tr>\n",
       "      <th>467</th>\n",
       "      <td>468</td>\n",
       "      <td>0.416</td>\n",
       "    </tr>\n",
       "    <tr>\n",
       "      <th>468</th>\n",
       "      <td>469</td>\n",
       "      <td>0.108</td>\n",
       "    </tr>\n",
       "    <tr>\n",
       "      <th>469</th>\n",
       "      <td>470</td>\n",
       "      <td>0.096</td>\n",
       "    </tr>\n",
       "  </tbody>\n",
       "</table>\n",
       "<p>470 rows × 2 columns</p>\n",
       "</div>"
      ],
      "text/plain": [
       "      Id  Attrition\n",
       "0      1      0.072\n",
       "1      2      0.064\n",
       "2      3      0.092\n",
       "3      4      0.164\n",
       "4      5      0.052\n",
       "..   ...        ...\n",
       "465  466      0.448\n",
       "466  467      0.812\n",
       "467  468      0.416\n",
       "468  469      0.108\n",
       "469  470      0.096\n",
       "\n",
       "[470 rows x 2 columns]"
      ]
     },
     "execution_count": 41,
     "metadata": {},
     "output_type": "execute_result"
    }
   ],
   "source": [
    "ans = pd.DataFrame(list(zip(Id,y_prob)),columns=['Id','Attrition'])\n",
    "ans"
   ]
  },
  {
   "cell_type": "code",
   "execution_count": 42,
   "metadata": {
    "execution": {
     "iopub.execute_input": "2020-09-19T16:58:04.358976Z",
     "iopub.status.busy": "2020-09-19T16:58:04.358297Z",
     "iopub.status.idle": "2020-09-19T16:58:04.777604Z",
     "shell.execute_reply": "2020-09-19T16:58:04.776907Z"
    },
    "papermill": {
     "duration": 0.484681,
     "end_time": "2020-09-19T16:58:04.777755",
     "exception": false,
     "start_time": "2020-09-19T16:58:04.293074",
     "status": "completed"
    },
    "tags": []
   },
   "outputs": [],
   "source": [
    "ans.to_csv('answer4.csv',index=False)"
   ]
  },
  {
   "cell_type": "code",
   "execution_count": null,
   "metadata": {
    "papermill": {
     "duration": 0.06354,
     "end_time": "2020-09-19T16:58:04.902695",
     "exception": false,
     "start_time": "2020-09-19T16:58:04.839155",
     "status": "completed"
    },
    "tags": []
   },
   "outputs": [],
   "source": []
  },
  {
   "cell_type": "code",
   "execution_count": null,
   "metadata": {
    "papermill": {
     "duration": 0.061773,
     "end_time": "2020-09-19T16:58:05.025977",
     "exception": false,
     "start_time": "2020-09-19T16:58:04.964204",
     "status": "completed"
    },
    "tags": []
   },
   "outputs": [],
   "source": []
  },
  {
   "cell_type": "code",
   "execution_count": null,
   "metadata": {
    "papermill": {
     "duration": 0.061098,
     "end_time": "2020-09-19T16:58:05.148389",
     "exception": false,
     "start_time": "2020-09-19T16:58:05.087291",
     "status": "completed"
    },
    "tags": []
   },
   "outputs": [],
   "source": []
  }
 ],
 "metadata": {
  "kernelspec": {
   "display_name": "Python 3",
   "language": "python",
   "name": "python3"
  },
  "language_info": {
   "codemirror_mode": {
    "name": "ipython",
    "version": 3
   },
   "file_extension": ".py",
   "mimetype": "text/x-python",
   "name": "python",
   "nbconvert_exporter": "python",
   "pygments_lexer": "ipython3",
   "version": "3.8.2"
  },
  "papermill": {
   "duration": 17.552433,
   "end_time": "2020-09-19T16:58:05.317880",
   "environment_variables": {},
   "exception": null,
   "input_path": "__notebook__.ipynb",
   "output_path": "__notebook__.ipynb",
   "parameters": {},
   "start_time": "2020-09-19T16:57:47.765447",
   "version": "2.1.0"
  }
 },
 "nbformat": 4,
 "nbformat_minor": 4
}
